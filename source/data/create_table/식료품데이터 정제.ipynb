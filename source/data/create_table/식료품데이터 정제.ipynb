{
 "cells": [
  {
   "cell_type": "markdown",
   "id": "7b1c7aa0",
   "metadata": {},
   "source": [
    "## 식료품 데이터 정제"
   ]
  },
  {
   "cell_type": "code",
   "execution_count": 2,
   "id": "6a63330d",
   "metadata": {},
   "outputs": [],
   "source": [
    "import pandas as pd\n",
    "import numpy as np\n",
    "\n",
    "\n",
    "# csv의 기본 sep는 '.'\n",
    "df = pd.read_csv('shops.csv', sep=',')"
   ]
  },
  {
   "cell_type": "code",
   "execution_count": 8,
   "id": "3943a4cb",
   "metadata": {},
   "outputs": [
    {
     "data": {
      "text/plain": [
       "Index(['상가업소번호', '상호명', '지점명', '상권업종대분류코드', '상권업종대분류명', '상권업종중분류코드',\n",
       "       '상권업종중분류명', '상권업종소분류코드', '상권업종소분류명', '표준산업분류코드', '표준산업분류명', '시도코드',\n",
       "       '시도명', '시군구코드', '시군구명', '행정동코드', '행정동명', '법정동코드', '법정동명', '지번코드',\n",
       "       '대지구분코드', '대지구분명', '지번본번지', '지번부번지', '지번주소', '도로명코드', '도로명', '건물본번지',\n",
       "       '건물부번지', '건물관리번호', '건물명', '도로명주소', '구우편번호', '신우편번호', '동정보', '층정보',\n",
       "       '호정보', '경도', '위도'],\n",
       "      dtype='object')"
      ]
     },
     "execution_count": 8,
     "metadata": {},
     "output_type": "execute_result"
    }
   ],
   "source": [
    "# 어떤 칼럼이 있는지 확인\n",
    "df.columns"
   ]
  },
  {
   "cell_type": "code",
   "execution_count": 3,
   "id": "2e21ec67",
   "metadata": {},
   "outputs": [
    {
     "data": {
      "text/plain": [
       "array(['서울특별시'], dtype=object)"
      ]
     },
     "execution_count": 3,
     "metadata": {},
     "output_type": "execute_result"
    }
   ],
   "source": [
    "# 해당 자료가 서울시 자료만 있는지 확인\n",
    "df['시도명'].unique()"
   ]
  },
  {
   "cell_type": "code",
   "execution_count": 4,
   "id": "08074152",
   "metadata": {},
   "outputs": [
    {
     "data": {
      "text/plain": [
       "array(['얼음가게', '청과물소매', '정육점', '생수판매', '식료품점', '육류소매', '반찬가게', '우유판매',\n",
       "       '어물상', '수산물소매', '미곡상', '곡물소매', '건과류판매', '건어물상', '유기농식품판매', '식자재판매',\n",
       "       '닭집', '김치판매', '냉동식품판매', '두유판매', '유과판매', '제과재료판매', '식용유판매',\n",
       "       '드라이아이스판매'], dtype=object)"
      ]
     },
     "execution_count": 4,
     "metadata": {},
     "output_type": "execute_result"
    }
   ],
   "source": [
    "# 음/식료품점 카테고리 확인\n",
    "df[df['상권업종중분류명'] == '음/식료품소매']['상권업종소분류명'].unique()"
   ]
  },
  {
   "cell_type": "code",
   "execution_count": 11,
   "id": "f173763d",
   "metadata": {},
   "outputs": [
    {
     "data": {
      "text/html": [
       "<div>\n",
       "<style scoped>\n",
       "    .dataframe tbody tr th:only-of-type {\n",
       "        vertical-align: middle;\n",
       "    }\n",
       "\n",
       "    .dataframe tbody tr th {\n",
       "        vertical-align: top;\n",
       "    }\n",
       "\n",
       "    .dataframe thead th {\n",
       "        text-align: right;\n",
       "    }\n",
       "</style>\n",
       "<table border=\"1\" class=\"dataframe\">\n",
       "  <thead>\n",
       "    <tr style=\"text-align: right;\">\n",
       "      <th></th>\n",
       "      <th>name</th>\n",
       "      <th>address</th>\n",
       "      <th>latitude</th>\n",
       "      <th>longitude</th>\n",
       "      <th>category</th>\n",
       "    </tr>\n",
       "  </thead>\n",
       "  <tbody>\n",
       "    <tr>\n",
       "      <th>326</th>\n",
       "      <td>인덕기름집</td>\n",
       "      <td>서울특별시 노원구 월계로53길 1</td>\n",
       "      <td>37.630341</td>\n",
       "      <td>127.058712</td>\n",
       "      <td>식료품점</td>\n",
       "    </tr>\n",
       "    <tr>\n",
       "      <th>30132</th>\n",
       "      <td>한마음축산</td>\n",
       "      <td>서울특별시 중랑구 동일로129길 18</td>\n",
       "      <td>37.599556</td>\n",
       "      <td>127.078624</td>\n",
       "      <td>육류소매</td>\n",
       "    </tr>\n",
       "    <tr>\n",
       "      <th>297657</th>\n",
       "      <td>고향산천</td>\n",
       "      <td>서울특별시 중랑구 용마공원로 18</td>\n",
       "      <td>37.593972</td>\n",
       "      <td>127.101136</td>\n",
       "      <td>청과물소매</td>\n",
       "    </tr>\n",
       "    <tr>\n",
       "      <th>78187</th>\n",
       "      <td>이천농산</td>\n",
       "      <td>서울특별시 송파구 바람드리16길 9-1</td>\n",
       "      <td>37.536784</td>\n",
       "      <td>127.119294</td>\n",
       "      <td>청과물소매</td>\n",
       "    </tr>\n",
       "    <tr>\n",
       "      <th>43144</th>\n",
       "      <td>소문난</td>\n",
       "      <td>서울특별시 관악구 양지길 1</td>\n",
       "      <td>37.472030</td>\n",
       "      <td>126.932996</td>\n",
       "      <td>청과물소매</td>\n",
       "    </tr>\n",
       "    <tr>\n",
       "      <th>293676</th>\n",
       "      <td>은혜식품</td>\n",
       "      <td>서울특별시 은평구 연서로 292</td>\n",
       "      <td>37.621609</td>\n",
       "      <td>126.926704</td>\n",
       "      <td>식료품점</td>\n",
       "    </tr>\n",
       "    <tr>\n",
       "      <th>187406</th>\n",
       "      <td>호남야채</td>\n",
       "      <td>서울특별시 구로구 우마3길 17</td>\n",
       "      <td>37.481691</td>\n",
       "      <td>126.889158</td>\n",
       "      <td>청과물소매</td>\n",
       "    </tr>\n",
       "    <tr>\n",
       "      <th>293488</th>\n",
       "      <td>명훈상사</td>\n",
       "      <td>서울특별시 은평구 통일로73길 12</td>\n",
       "      <td>37.615486</td>\n",
       "      <td>126.923224</td>\n",
       "      <td>식료품점</td>\n",
       "    </tr>\n",
       "    <tr>\n",
       "      <th>22729</th>\n",
       "      <td>서울우유응암2동고객센터</td>\n",
       "      <td>서울특별시 은평구 가좌로7라길 13-4</td>\n",
       "      <td>37.584929</td>\n",
       "      <td>126.916996</td>\n",
       "      <td>식료품점</td>\n",
       "    </tr>\n",
       "    <tr>\n",
       "      <th>262199</th>\n",
       "      <td>용원네과일</td>\n",
       "      <td>서울특별시 중랑구 망우로62길 32</td>\n",
       "      <td>37.597613</td>\n",
       "      <td>127.097673</td>\n",
       "      <td>청과물소매</td>\n",
       "    </tr>\n",
       "  </tbody>\n",
       "</table>\n",
       "</div>"
      ],
      "text/plain": [
       "                name                address   latitude   longitude category\n",
       "326            인덕기름집     서울특별시 노원구 월계로53길 1  37.630341  127.058712     식료품점\n",
       "30132          한마음축산   서울특별시 중랑구 동일로129길 18  37.599556  127.078624     육류소매\n",
       "297657          고향산천     서울특별시 중랑구 용마공원로 18  37.593972  127.101136    청과물소매\n",
       "78187           이천농산  서울특별시 송파구 바람드리16길 9-1  37.536784  127.119294    청과물소매\n",
       "43144            소문난        서울특별시 관악구 양지길 1  37.472030  126.932996    청과물소매\n",
       "293676          은혜식품      서울특별시 은평구 연서로 292  37.621609  126.926704     식료품점\n",
       "187406          호남야채      서울특별시 구로구 우마3길 17  37.481691  126.889158    청과물소매\n",
       "293488          명훈상사    서울특별시 은평구 통일로73길 12  37.615486  126.923224     식료품점\n",
       "22729   서울우유응암2동고객센터  서울특별시 은평구 가좌로7라길 13-4  37.584929  126.916996     식료품점\n",
       "262199         용원네과일    서울특별시 중랑구 망우로62길 32  37.597613  127.097673    청과물소매"
      ]
     },
     "execution_count": 11,
     "metadata": {},
     "output_type": "execute_result"
    }
   ],
   "source": [
    "# 필요한 데이터만 보기 (categories: 청과물 소매, 식료품점, 육류소매, 수산물소매, 곡물소매, 유기농식품판매)\n",
    "# df = df.loc[df['상권업종중분류명'] == '음/식료품소매']  \n",
    "df = df.loc[(df['상권업종소분류명'] == '청과물소매') | (df['상권업종소분류명'] == '식료품점') | (df['상권업종소분류명'] == '육류소매') | (df['상권업종소분류명'] == '수산물소매') | (df['상권업종소분류명'] == '곡물소매') | (df['상권업종소분류명'] == '유기농식품판매')]\n",
    "\n",
    "# 다음 칼럼만 있으면 됩니다\n",
    "df = df[['상호명', '도로명주소', '위도', '경도', '상권업종소분류명']]\n",
    "df.columns = ['name','address','latitude','longitude', 'category']\n",
    "\n",
    "df.sample(10)"
   ]
  },
  {
   "cell_type": "code",
   "execution_count": 7,
   "id": "7c7260c0",
   "metadata": {},
   "outputs": [
    {
     "data": {
      "text/plain": [
       "5740"
      ]
     },
     "execution_count": 7,
     "metadata": {},
     "output_type": "execute_result"
    }
   ],
   "source": [
    "# 서울시 식료품 상점 개수\n",
    "len(df)"
   ]
  },
  {
   "cell_type": "code",
   "execution_count": 20,
   "id": "21d4fc68",
   "metadata": {},
   "outputs": [],
   "source": [
    "df.to_csv('./markets.csv', index=False)"
   ]
  },
  {
   "cell_type": "code",
   "execution_count": 21,
   "id": "01a8e649",
   "metadata": {},
   "outputs": [
    {
     "data": {
      "text/html": [
       "<div>\n",
       "<style scoped>\n",
       "    .dataframe tbody tr th:only-of-type {\n",
       "        vertical-align: middle;\n",
       "    }\n",
       "\n",
       "    .dataframe tbody tr th {\n",
       "        vertical-align: top;\n",
       "    }\n",
       "\n",
       "    .dataframe thead th {\n",
       "        text-align: right;\n",
       "    }\n",
       "</style>\n",
       "<table border=\"1\" class=\"dataframe\">\n",
       "  <thead>\n",
       "    <tr style=\"text-align: right;\">\n",
       "      <th></th>\n",
       "      <th>name</th>\n",
       "      <th>address</th>\n",
       "      <th>latitude</th>\n",
       "      <th>longitude</th>\n",
       "      <th>category</th>\n",
       "    </tr>\n",
       "  </thead>\n",
       "  <tbody>\n",
       "    <tr>\n",
       "      <th>0</th>\n",
       "      <td>대풍청과</td>\n",
       "      <td>서울특별시 성북구 동소문로 225-9</td>\n",
       "      <td>37.602259</td>\n",
       "      <td>127.021546</td>\n",
       "      <td>청과물소매</td>\n",
       "    </tr>\n",
       "    <tr>\n",
       "      <th>1</th>\n",
       "      <td>대림농산</td>\n",
       "      <td>서울특별시 동대문구 약령동길 50</td>\n",
       "      <td>37.580490</td>\n",
       "      <td>127.037953</td>\n",
       "      <td>청과물소매</td>\n",
       "    </tr>\n",
       "    <tr>\n",
       "      <th>2</th>\n",
       "      <td>대영식품</td>\n",
       "      <td>서울특별시 강남구 남부순환로365길 19</td>\n",
       "      <td>37.486799</td>\n",
       "      <td>127.039133</td>\n",
       "      <td>식료품점</td>\n",
       "    </tr>\n",
       "    <tr>\n",
       "      <th>3</th>\n",
       "      <td>신흥축산</td>\n",
       "      <td>서울특별시 관악구 장군봉1길 41</td>\n",
       "      <td>37.481728</td>\n",
       "      <td>126.942288</td>\n",
       "      <td>육류소매</td>\n",
       "    </tr>\n",
       "    <tr>\n",
       "      <th>4</th>\n",
       "      <td>풍미축산유통</td>\n",
       "      <td>서울특별시 강북구 한천로123길 31</td>\n",
       "      <td>37.635922</td>\n",
       "      <td>127.030259</td>\n",
       "      <td>육류소매</td>\n",
       "    </tr>\n",
       "    <tr>\n",
       "      <th>...</th>\n",
       "      <td>...</td>\n",
       "      <td>...</td>\n",
       "      <td>...</td>\n",
       "      <td>...</td>\n",
       "      <td>...</td>\n",
       "    </tr>\n",
       "    <tr>\n",
       "      <th>5735</th>\n",
       "      <td>천안상회</td>\n",
       "      <td>서울특별시 성동구 동일로 261-1</td>\n",
       "      <td>37.554966</td>\n",
       "      <td>127.070979</td>\n",
       "      <td>식료품점</td>\n",
       "    </tr>\n",
       "    <tr>\n",
       "      <th>5736</th>\n",
       "      <td>비케이Corp.</td>\n",
       "      <td>서울특별시 영등포구 선유로 277</td>\n",
       "      <td>37.537353</td>\n",
       "      <td>126.898324</td>\n",
       "      <td>식료품점</td>\n",
       "    </tr>\n",
       "    <tr>\n",
       "      <th>5737</th>\n",
       "      <td>방배자연식품</td>\n",
       "      <td>서울특별시 서초구 서초대로 29</td>\n",
       "      <td>37.486072</td>\n",
       "      <td>126.985602</td>\n",
       "      <td>식료품점</td>\n",
       "    </tr>\n",
       "    <tr>\n",
       "      <th>5738</th>\n",
       "      <td>고려상회</td>\n",
       "      <td>서울특별시 성북구 종암로 56</td>\n",
       "      <td>37.595124</td>\n",
       "      <td>127.037029</td>\n",
       "      <td>식료품점</td>\n",
       "    </tr>\n",
       "    <tr>\n",
       "      <th>5739</th>\n",
       "      <td>목우촌우유</td>\n",
       "      <td>서울특별시 광진구 긴고랑로36길 71</td>\n",
       "      <td>37.556706</td>\n",
       "      <td>127.091850</td>\n",
       "      <td>식료품점</td>\n",
       "    </tr>\n",
       "  </tbody>\n",
       "</table>\n",
       "<p>5740 rows × 5 columns</p>\n",
       "</div>"
      ],
      "text/plain": [
       "          name                 address   latitude   longitude category\n",
       "0         대풍청과    서울특별시 성북구 동소문로 225-9  37.602259  127.021546    청과물소매\n",
       "1         대림농산      서울특별시 동대문구 약령동길 50  37.580490  127.037953    청과물소매\n",
       "2         대영식품  서울특별시 강남구 남부순환로365길 19  37.486799  127.039133     식료품점\n",
       "3         신흥축산      서울특별시 관악구 장군봉1길 41  37.481728  126.942288     육류소매\n",
       "4       풍미축산유통    서울특별시 강북구 한천로123길 31  37.635922  127.030259     육류소매\n",
       "...        ...                     ...        ...         ...      ...\n",
       "5735      천안상회     서울특별시 성동구 동일로 261-1  37.554966  127.070979     식료품점\n",
       "5736  비케이Corp.      서울특별시 영등포구 선유로 277  37.537353  126.898324     식료품점\n",
       "5737    방배자연식품       서울특별시 서초구 서초대로 29  37.486072  126.985602     식료품점\n",
       "5738      고려상회        서울특별시 성북구 종암로 56  37.595124  127.037029     식료품점\n",
       "5739     목우촌우유    서울특별시 광진구 긴고랑로36길 71  37.556706  127.091850     식료품점\n",
       "\n",
       "[5740 rows x 5 columns]"
      ]
     },
     "execution_count": 21,
     "metadata": {},
     "output_type": "execute_result"
    }
   ],
   "source": [
    "df2= pd.read_csv('./df.csv')\n",
    "df2"
   ]
  },
  {
   "cell_type": "code",
   "execution_count": null,
   "id": "b1e92dcf",
   "metadata": {},
   "outputs": [],
   "source": []
  }
 ],
 "metadata": {
  "kernelspec": {
   "display_name": "Python 3",
   "language": "python",
   "name": "python3"
  },
  "language_info": {
   "codemirror_mode": {
    "name": "ipython",
    "version": 3
   },
   "file_extension": ".py",
   "mimetype": "text/x-python",
   "name": "python",
   "nbconvert_exporter": "python",
   "pygments_lexer": "ipython3",
   "version": "3.8.8"
  }
 },
 "nbformat": 4,
 "nbformat_minor": 5
}
