{
 "cells": [
  {
   "cell_type": "code",
   "execution_count": 1,
   "id": "035d5f94",
   "metadata": {},
   "outputs": [],
   "source": [
    "#!/usr/bin/env python\n",
    "# coding: utf-8\n",
    "\n",
    "# # 데이터 폴더 구조 세팅\n",
    "# Keras의 preprcess API를 이용해 데이터를 불러들이기 때문에 데이터 폴더 구조를 이에 맞게 변경해야함\n",
    "\n",
    "# Usage\n",
    "# $ python set_data_folder_structure.py --data [data-file-loc]\n",
    "# ex)  $ python set_data_folder_structure.py --data C:/Users/multicampus/projects/fresh/data\n",
    "\n",
    "# 폴더 구조\n",
    "# data\n",
    "#   Training\n",
    "#   Validation\n",
    "\n",
    "from glob import glob\n",
    "from tqdm import tqdm\n",
    "import os\n",
    "import argparse\n",
    "\n",
    "\n",
    "def mv_folders(fn):\n",
    "    os.system(f'mkdir {fn}')\n",
    "    for g in ['L', 'M', 'S']:\n",
    "        os.system(f'mv {fn}_{g} {fn}')"
   ]
  },
  {
   "cell_type": "code",
   "execution_count": 9,
   "id": "f417b929",
   "metadata": {},
   "outputs": [],
   "source": [
    "def call(command):\n",
    "    \"\"\"\n",
    "    윈도우랑 리눅스 경로 명령어 다른 문제 때문에\n",
    "    \"\"\"\n",
    "    result = os.system(command)\n",
    "    if result:  # error\n",
    "        command = command.replace('/', '\\\\')\n",
    "        result = os.system(command)\n",
    "        if result:\n",
    "            command = command.replace('\\\\', '/')\n",
    "            result = os.system(command)\n",
    "    return result"
   ]
  },
  {
   "cell_type": "code",
   "execution_count": null,
   "id": "dbde2780",
   "metadata": {},
   "outputs": [],
   "source": [
    "parser = argparse.ArgumentParser()\n",
    "parser.add_argument('--data', help='')\n",
    "args = parser.parse_args()\n",
    "data_loc = args.data"
   ]
  },
  {
   "cell_type": "code",
   "execution_count": 3,
   "id": "4f834a9f",
   "metadata": {},
   "outputs": [],
   "source": [
    "data_loc = 'C:/Users/multicampus/projects/fresh/data'"
   ]
  },
  {
   "cell_type": "code",
   "execution_count": 4,
   "id": "5290dea1",
   "metadata": {},
   "outputs": [],
   "source": [
    "os.chdir(f'{data_loc}/Training')"
   ]
  },
  {
   "cell_type": "code",
   "execution_count": 7,
   "id": "5191d88c",
   "metadata": {},
   "outputs": [],
   "source": [
    "folder_names = [x for x in glob('*') if not x.startswith('[라벨]')]"
   ]
  },
  {
   "cell_type": "code",
   "execution_count": 10,
   "id": "f4bcc318",
   "metadata": {},
   "outputs": [
    {
     "data": {
      "text/plain": [
       "0"
      ]
     },
     "execution_count": 10,
     "metadata": {},
     "output_type": "execute_result"
    }
   ],
   "source": [
    "call(f'mkdir images')"
   ]
  },
  {
   "cell_type": "code",
   "execution_count": 19,
   "id": "a22ca5de",
   "metadata": {},
   "outputs": [],
   "source": [
    "for fn in folder_names:\n",
    "    fns = glob(f'{fn}/*')\n",
    "    for f in fns:\n",
    "        call(f'mv {f} ./images')"
   ]
  },
  {
   "cell_type": "code",
   "execution_count": 22,
   "id": "db1e5d4e",
   "metadata": {},
   "outputs": [],
   "source": [
    "for fn in folder_names:\n",
    "    call(f'rm -r {fn}')"
   ]
  }
 ],
 "metadata": {
  "kernelspec": {
   "display_name": "Python 3",
   "language": "python",
   "name": "python3"
  },
  "language_info": {
   "codemirror_mode": {
    "name": "ipython",
    "version": 3
   },
   "file_extension": ".py",
   "mimetype": "text/x-python",
   "name": "python",
   "nbconvert_exporter": "python",
   "pygments_lexer": "ipython3",
   "version": "3.8.3"
  }
 },
 "nbformat": 4,
 "nbformat_minor": 5
}
