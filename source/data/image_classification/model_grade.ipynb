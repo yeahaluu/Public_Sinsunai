{
 "cells": [
  {
   "cell_type": "code",
   "execution_count": 66,
   "id": "f143e9af",
   "metadata": {},
   "outputs": [],
   "source": [
    "from glob import glob\n",
    "from tqdm import tqdm\n",
    "import json\n",
    "import os\n",
    "import pandas as pd\n",
    "import numpy as np\n",
    "import pickle\n",
    "import sys\n",
    "# import cv2\n",
    "from tqdm import tqdm\n",
    "import tensorflow as tf\n",
    "from tensorflow.keras.models import Model"
   ]
  },
  {
   "cell_type": "code",
   "execution_count": 67,
   "id": "db84385d",
   "metadata": {},
   "outputs": [],
   "source": [
    "img_height, img_width = 224, 224  # 이미지 크기\n",
    "batch_size = 16  # batch size 너무 크게하면 메모리 초과 뜸\n",
    "data_loc = 'C:/Users/multicampus/projects/fresh/data' # your data loc"
   ]
  },
  {
   "cell_type": "markdown",
   "id": "73e922df",
   "metadata": {},
   "source": [
    "## 사과 양광 데이터로만 시도"
   ]
  },
  {
   "cell_type": "code",
   "execution_count": 27,
   "id": "b9edcbda",
   "metadata": {},
   "outputs": [
    {
     "name": "stdout",
     "output_type": "stream",
     "text": [
      "Found 5544 files belonging to 3 classes.\n",
      "Using 4436 files for training.\n"
     ]
    }
   ],
   "source": [
    "train_ds = tf.keras.preprocessing.image_dataset_from_directory(\n",
    "    f'{data_loc}/Training/apple_yanggwang',\n",
    "    validation_split=0.2,\n",
    "    subset=\"training\",\n",
    "    seed=123,  # random 값 고정\n",
    "    image_size=(img_height, img_width),\n",
    "    batch_size=batch_size)"
   ]
  },
  {
   "cell_type": "code",
   "execution_count": 28,
   "id": "fb38ec1c",
   "metadata": {},
   "outputs": [
    {
     "name": "stdout",
     "output_type": "stream",
     "text": [
      "Found 5544 files belonging to 3 classes.\n",
      "Using 1108 files for validation.\n"
     ]
    }
   ],
   "source": [
    "val_ds = tf.keras.preprocessing.image_dataset_from_directory(\n",
    "  f'{data_loc}/Training/apple_yanggwang',\n",
    "  validation_split=0.2,\n",
    "  subset=\"validation\",\n",
    "  seed=123,\n",
    "  image_size=(img_height, img_width),\n",
    "  batch_size=batch_size)"
   ]
  },
  {
   "cell_type": "code",
   "execution_count": 29,
   "id": "90d7508b",
   "metadata": {},
   "outputs": [
    {
     "name": "stdout",
     "output_type": "stream",
     "text": [
      "Found 792 files belonging to 3 classes.\n"
     ]
    }
   ],
   "source": [
    "test_ds = tf.keras.preprocessing.image_dataset_from_directory(\n",
    "    f'{data_loc}/Validation/apple_yanggwang',\n",
    "    seed=123,\n",
    "    image_size=(img_height, img_width),\n",
    "    batch_size=batch_size)"
   ]
  },
  {
   "cell_type": "code",
   "execution_count": 30,
   "id": "bc9c58dd",
   "metadata": {},
   "outputs": [
    {
     "name": "stdout",
     "output_type": "stream",
     "text": [
      "['apple_yanggwang_L', 'apple_yanggwang_M', 'apple_yanggwang_S']\n"
     ]
    }
   ],
   "source": [
    "cls = train_ds.class_names\n",
    "num_classes = len(cls)\n",
    "print(cls)"
   ]
  },
  {
   "cell_type": "code",
   "execution_count": 31,
   "id": "aa18be16",
   "metadata": {},
   "outputs": [],
   "source": [
    "model = tf.keras.Sequential([\n",
    "#   tf.keras.layers.experimental.preprocessing.Rescaling(1./255, input_shape=(img_height, img_width, 3)),\n",
    "  tf.keras.layers.Conv2D(16, 3, padding='same', activation='relu', input_shape=(img_height, img_width, 3)),\n",
    "  tf.keras.layers.MaxPooling2D(),\n",
    "  tf.keras.layers.Conv2D(32, 3, padding='same', activation='relu'),\n",
    "  tf.keras.layers.MaxPooling2D(),\n",
    "  tf.keras.layers.Conv2D(32, 3, padding='same', activation='relu'),\n",
    "  tf.keras.layers.MaxPooling2D(),\n",
    "  tf.keras.layers.Conv2D(32, 3, padding='same', activation='relu'),\n",
    "  tf.keras.layers.MaxPooling2D(),\n",
    "  tf.keras.layers.Conv2D(32, 3, padding='same', activation='relu'),\n",
    "  tf.keras.layers.MaxPooling2D(),\n",
    "  tf.keras.layers.Flatten(),\n",
    "  tf.keras.layers.Dense(64, activation='relu'),\n",
    "  tf.keras.layers.Dense(num_classes, activation='softmax')\n",
    "])"
   ]
  },
  {
   "cell_type": "code",
   "execution_count": 32,
   "id": "630ed8a3",
   "metadata": {},
   "outputs": [],
   "source": [
    "model.compile(\n",
    "  optimizer='adam',\n",
    "  loss=tf.losses.SparseCategoricalCrossentropy(from_logits=False),\n",
    "  metrics=['accuracy'])"
   ]
  },
  {
   "cell_type": "code",
   "execution_count": 34,
   "id": "5b2f424a",
   "metadata": {},
   "outputs": [
    {
     "name": "stdout",
     "output_type": "stream",
     "text": [
      "Epoch 1/15\n",
      "278/278 [==============================] - 102s 366ms/step - loss: 0.6800 - accuracy: 0.6898 - val_loss: 0.3120 - val_accuracy: 0.8773\n",
      "Epoch 2/15\n",
      "278/278 [==============================] - 107s 382ms/step - loss: 0.3318 - accuracy: 0.8756 - val_loss: 0.2782 - val_accuracy: 0.8944\n",
      "Epoch 3/15\n",
      "278/278 [==============================] - 106s 380ms/step - loss: 0.2410 - accuracy: 0.9092 - val_loss: 0.1716 - val_accuracy: 0.9404\n",
      "Epoch 4/15\n",
      "278/278 [==============================] - 103s 366ms/step - loss: 0.2212 - accuracy: 0.9218 - val_loss: 0.2694 - val_accuracy: 0.9007\n",
      "Epoch 5/15\n",
      "278/278 [==============================] - 106s 378ms/step - loss: 0.1803 - accuracy: 0.9319 - val_loss: 0.2836 - val_accuracy: 0.8872\n",
      "Epoch 6/15\n",
      "278/278 [==============================] - 104s 373ms/step - loss: 0.1531 - accuracy: 0.9457 - val_loss: 0.1331 - val_accuracy: 0.9522\n",
      "Epoch 7/15\n",
      "278/278 [==============================] - 106s 378ms/step - loss: 0.1016 - accuracy: 0.9608 - val_loss: 0.1671 - val_accuracy: 0.9431\n",
      "Epoch 8/15\n",
      "278/278 [==============================] - 102s 364ms/step - loss: 0.0961 - accuracy: 0.9624 - val_loss: 0.2210 - val_accuracy: 0.9224\n",
      "Epoch 9/15\n",
      "278/278 [==============================] - 104s 372ms/step - loss: 0.0784 - accuracy: 0.9714 - val_loss: 0.2614 - val_accuracy: 0.9152\n",
      "Epoch 10/15\n",
      "278/278 [==============================] - 105s 374ms/step - loss: 0.1024 - accuracy: 0.9619 - val_loss: 0.0844 - val_accuracy: 0.9675\n",
      "Epoch 11/15\n",
      "278/278 [==============================] - 112s 400ms/step - loss: 0.0904 - accuracy: 0.9664 - val_loss: 0.1141 - val_accuracy: 0.9612\n",
      "Epoch 12/15\n",
      "278/278 [==============================] - 112s 400ms/step - loss: 0.0818 - accuracy: 0.9698 - val_loss: 0.2205 - val_accuracy: 0.9504\n",
      "Epoch 13/15\n",
      "278/278 [==============================] - 109s 391ms/step - loss: 0.1094 - accuracy: 0.9590 - val_loss: 0.0754 - val_accuracy: 0.9738\n",
      "Epoch 14/15\n",
      "278/278 [==============================] - 112s 400ms/step - loss: 0.0595 - accuracy: 0.9784 - val_loss: 0.1317 - val_accuracy: 0.9639\n",
      "Epoch 15/15\n",
      "278/278 [==============================] - 111s 396ms/step - loss: 0.0785 - accuracy: 0.9702 - val_loss: 0.1673 - val_accuracy: 0.9458\n"
     ]
    },
    {
     "data": {
      "text/plain": [
       "<keras.callbacks.History at 0x1ea0fdc2b20>"
      ]
     },
     "execution_count": 34,
     "metadata": {},
     "output_type": "execute_result"
    }
   ],
   "source": [
    "model.fit(\n",
    "  train_ds,\n",
    "  validation_data=val_ds,\n",
    "  epochs=15\n",
    ")"
   ]
  },
  {
   "cell_type": "code",
   "execution_count": 35,
   "id": "118ed55a",
   "metadata": {},
   "outputs": [],
   "source": [
    "model.save('my_model_grade_224_1116.h5')"
   ]
  },
  {
   "cell_type": "code",
   "execution_count": 36,
   "id": "8721b5c8",
   "metadata": {},
   "outputs": [
    {
     "name": "stdout",
     "output_type": "stream",
     "text": [
      "모델 테스트 데이터셋에 돌려본 결과\n",
      "test loss, test acc\n",
      "50/50 [==============================] - 6s 116ms/step - loss: 3.0737 - accuracy: 0.6073\n",
      "[3.0737197399139404, 0.6073232293128967]\n"
     ]
    }
   ],
   "source": [
    "print('모델 테스트 데이터셋에 돌려본 결과')\n",
    "print('test loss, test acc')\n",
    "print(model.evaluate(test_ds))"
   ]
  },
  {
   "cell_type": "code",
   "execution_count": 25,
   "id": "77e69f28",
   "metadata": {},
   "outputs": [
    {
     "name": "stderr",
     "output_type": "stream",
     "text": [
      "100%|██████████████████████████████████████████████████████████████████████████████████| 50/50 [01:18<00:00,  1.57s/it]"
     ]
    },
    {
     "name": "stdout",
     "output_type": "stream",
     "text": [
      "0.5972222222222222\n"
     ]
    },
    {
     "name": "stderr",
     "output_type": "stream",
     "text": [
      "\n"
     ]
    }
   ],
   "source": [
    "# model = tf.keras.models.load_model(\"my_model_grade_1116.h5\")\n",
    "pred = []\n",
    "y = []\n",
    "for b_x, b_y in tqdm(test_ds):\n",
    "    pred.extend(model.predict(b_x).tolist())\n",
    "    y.extend(b_y.numpy().tolist())\n",
    "pred = np.array(pred)\n",
    "y = np.array(y)\n",
    "pred_one = np.array([np.argmax(x) for x in pred])\n",
    "acc = np.mean(pred_one == y)\n",
    "print(acc)"
   ]
  },
  {
   "cell_type": "code",
   "execution_count": 37,
   "id": "6f2a5958",
   "metadata": {},
   "outputs": [
    {
     "name": "stdout",
     "output_type": "stream",
     "text": [
      "Model: \"sequential_1\"\n",
      "_________________________________________________________________\n",
      "Layer (type)                 Output Shape              Param #   \n",
      "=================================================================\n",
      "conv2d_5 (Conv2D)            (None, 224, 224, 16)      448       \n",
      "_________________________________________________________________\n",
      "max_pooling2d_5 (MaxPooling2 (None, 112, 112, 16)      0         \n",
      "_________________________________________________________________\n",
      "conv2d_6 (Conv2D)            (None, 112, 112, 32)      4640      \n",
      "_________________________________________________________________\n",
      "max_pooling2d_6 (MaxPooling2 (None, 56, 56, 32)        0         \n",
      "_________________________________________________________________\n",
      "conv2d_7 (Conv2D)            (None, 56, 56, 32)        9248      \n",
      "_________________________________________________________________\n",
      "max_pooling2d_7 (MaxPooling2 (None, 28, 28, 32)        0         \n",
      "_________________________________________________________________\n",
      "conv2d_8 (Conv2D)            (None, 28, 28, 32)        9248      \n",
      "_________________________________________________________________\n",
      "max_pooling2d_8 (MaxPooling2 (None, 14, 14, 32)        0         \n",
      "_________________________________________________________________\n",
      "conv2d_9 (Conv2D)            (None, 14, 14, 32)        9248      \n",
      "_________________________________________________________________\n",
      "max_pooling2d_9 (MaxPooling2 (None, 7, 7, 32)          0         \n",
      "_________________________________________________________________\n",
      "flatten_1 (Flatten)          (None, 1568)              0         \n",
      "_________________________________________________________________\n",
      "dense_2 (Dense)              (None, 64)                100416    \n",
      "_________________________________________________________________\n",
      "dense_3 (Dense)              (None, 3)                 195       \n",
      "=================================================================\n",
      "Total params: 133,443\n",
      "Trainable params: 133,443\n",
      "Non-trainable params: 0\n",
      "_________________________________________________________________\n"
     ]
    }
   ],
   "source": [
    "model.summary()"
   ]
  },
  {
   "cell_type": "markdown",
   "id": "d9396ab4",
   "metadata": {},
   "source": [
    "## 사과 부사 데이터"
   ]
  },
  {
   "cell_type": "code",
   "execution_count": 69,
   "id": "856818c6",
   "metadata": {},
   "outputs": [
    {
     "name": "stdout",
     "output_type": "stream",
     "text": [
      "Found 7140 files belonging to 3 classes.\n",
      "Using 5712 files for training.\n",
      "Found 7140 files belonging to 3 classes.\n",
      "Using 1428 files for validation.\n",
      "Found 1020 files belonging to 3 classes.\n",
      "class names; ['apple_fuji_L', 'apple_fuji_M', 'apple_fuji_S']\n"
     ]
    }
   ],
   "source": [
    "train_ds = tf.keras.preprocessing.image_dataset_from_directory(\n",
    "    f'{data_loc}/Training/apple_fuji',\n",
    "    validation_split=0.2,\n",
    "    subset=\"training\",\n",
    "    seed=123,  # random 값 고정\n",
    "    image_size=(img_height, img_width),\n",
    "    batch_size=batch_size)\n",
    "\n",
    "val_ds = tf.keras.preprocessing.image_dataset_from_directory(\n",
    "  f'{data_loc}/Training/apple_fuji',\n",
    "  validation_split=0.2,\n",
    "  subset=\"validation\",\n",
    "  seed=123,\n",
    "  image_size=(img_height, img_width),\n",
    "  batch_size=batch_size)\n",
    "\n",
    "test_ds = tf.keras.preprocessing.image_dataset_from_directory(\n",
    "    f'{data_loc}/Validation/apple_fuji',\n",
    "    seed=123,\n",
    "    image_size=(img_height, img_width),\n",
    "    batch_size=batch_size)\n",
    "\n",
    "cls = train_ds.class_names\n",
    "num_classes = len(cls)\n",
    "print('class names;', cls)\n",
    "\n",
    "model = tf.keras.Sequential([\n",
    "#   tf.keras.layers.experimental.preprocessing.Rescaling(1./255, input_shape=(img_height, img_width, 3)),\n",
    "  tf.keras.layers.Conv2D(16, 3, padding='same', activation='relu', input_shape=(img_height, img_width, 3)),\n",
    "  tf.keras.layers.MaxPooling2D(),\n",
    "  tf.keras.layers.Conv2D(32, 3, padding='same', activation='relu'),\n",
    "  tf.keras.layers.MaxPooling2D(),\n",
    "  tf.keras.layers.Conv2D(32, 3, padding='same', activation='relu'),\n",
    "  tf.keras.layers.MaxPooling2D(),\n",
    "  tf.keras.layers.Conv2D(32, 3, padding='same', activation='relu'),\n",
    "  tf.keras.layers.MaxPooling2D(),\n",
    "  tf.keras.layers.Conv2D(32, 3, padding='same', activation='relu'),\n",
    "  tf.keras.layers.MaxPooling2D(),\n",
    "  tf.keras.layers.Flatten(),\n",
    "  tf.keras.layers.Dense(64, activation='relu'),\n",
    "  tf.keras.layers.Dense(num_classes, activation='softmax')\n",
    "])\n",
    "\n",
    "model.compile(\n",
    "  optimizer='adam',\n",
    "  loss=tf.losses.SparseCategoricalCrossentropy(from_logits=False),\n",
    "  metrics=['accuracy'])"
   ]
  },
  {
   "cell_type": "code",
   "execution_count": 73,
   "id": "803d7d2f",
   "metadata": {},
   "outputs": [
    {
     "name": "stdout",
     "output_type": "stream",
     "text": [
      "Epoch 1/15\n",
      "357/357 [==============================] - 116s 324ms/step - loss: 0.8100 - accuracy: 0.7211 - val_loss: 0.2354 - val_accuracy: 0.9188\n",
      "Epoch 2/15\n",
      "357/357 [==============================] - 126s 351ms/step - loss: 0.2278 - accuracy: 0.9146 - val_loss: 0.2054 - val_accuracy: 0.9293\n",
      "Epoch 3/15\n",
      "357/357 [==============================] - 116s 324ms/step - loss: 0.1666 - accuracy: 0.9398 - val_loss: 0.4604 - val_accuracy: 0.8543\n",
      "Epoch 4/15\n",
      "357/357 [==============================] - 131s 364ms/step - loss: 0.1422 - accuracy: 0.9482 - val_loss: 0.2316 - val_accuracy: 0.9209\n",
      "Epoch 5/15\n",
      "357/357 [==============================] - 135s 375ms/step - loss: 0.1399 - accuracy: 0.9494 - val_loss: 0.1586 - val_accuracy: 0.9447\n",
      "Epoch 6/15\n",
      "357/357 [==============================] - 139s 389ms/step - loss: 0.1327 - accuracy: 0.9510 - val_loss: 0.1220 - val_accuracy: 0.9573\n",
      "Epoch 7/15\n",
      "357/357 [==============================] - 135s 377ms/step - loss: 0.1030 - accuracy: 0.9615 - val_loss: 0.0881 - val_accuracy: 0.9664\n",
      "Epoch 8/15\n",
      "357/357 [==============================] - 139s 388ms/step - loss: 0.0677 - accuracy: 0.9746 - val_loss: 0.1727 - val_accuracy: 0.9412\n",
      "Epoch 9/15\n",
      "357/357 [==============================] - 139s 388ms/step - loss: 0.0735 - accuracy: 0.9743 - val_loss: 0.0959 - val_accuracy: 0.9699\n",
      "Epoch 10/15\n",
      "357/357 [==============================] - 139s 388ms/step - loss: 0.0938 - accuracy: 0.9695 - val_loss: 0.1373 - val_accuracy: 0.9643\n",
      "Epoch 11/15\n",
      "357/357 [==============================] - 145s 403ms/step - loss: 0.0789 - accuracy: 0.9697 - val_loss: 0.1012 - val_accuracy: 0.9685\n",
      "Epoch 12/15\n",
      "357/357 [==============================] - 154s 430ms/step - loss: 0.0565 - accuracy: 0.9790 - val_loss: 0.0967 - val_accuracy: 0.9657\n",
      "Epoch 13/15\n",
      "357/357 [==============================] - 129s 358ms/step - loss: 0.0823 - accuracy: 0.9704 - val_loss: 0.1036 - val_accuracy: 0.9643\n",
      "Epoch 14/15\n",
      "357/357 [==============================] - 129s 361ms/step - loss: 0.0447 - accuracy: 0.9823 - val_loss: 0.0617 - val_accuracy: 0.9825\n",
      "Epoch 15/15\n",
      "357/357 [==============================] - 120s 334ms/step - loss: 0.0593 - accuracy: 0.9793 - val_loss: 0.0712 - val_accuracy: 0.9797\n"
     ]
    },
    {
     "data": {
      "text/plain": [
       "<keras.callbacks.History at 0x1ea1001bd00>"
      ]
     },
     "execution_count": 73,
     "metadata": {},
     "output_type": "execute_result"
    }
   ],
   "source": [
    "model.fit(\n",
    "  train_ds,\n",
    "  validation_data=val_ds,\n",
    "  epochs=15\n",
    ")"
   ]
  },
  {
   "cell_type": "code",
   "execution_count": 74,
   "id": "7778c1bc",
   "metadata": {},
   "outputs": [],
   "source": [
    "model.save('my_model_grade_224_1116_apple_fuji.h5')"
   ]
  },
  {
   "cell_type": "code",
   "execution_count": 75,
   "id": "8a4db15f",
   "metadata": {},
   "outputs": [
    {
     "name": "stdout",
     "output_type": "stream",
     "text": [
      "모델 테스트 데이터셋에 돌려본 결과\n",
      "test loss, test acc\n",
      "64/64 [==============================] - 7s 102ms/step - loss: 0.4519 - accuracy: 0.9176\n",
      "[0.4519018232822418, 0.9176470637321472]\n"
     ]
    }
   ],
   "source": [
    "print('모델 테스트 데이터셋에 돌려본 결과')\n",
    "print('test loss, test acc')\n",
    "print(model.evaluate(test_ds))"
   ]
  },
  {
   "cell_type": "code",
   "execution_count": null,
   "id": "d472687d",
   "metadata": {},
   "outputs": [],
   "source": []
  }
 ],
 "metadata": {
  "kernelspec": {
   "display_name": "Python 3 (ipykernel)",
   "language": "python",
   "name": "python3"
  },
  "language_info": {
   "codemirror_mode": {
    "name": "ipython",
    "version": 3
   },
   "file_extension": ".py",
   "mimetype": "text/x-python",
   "name": "python",
   "nbconvert_exporter": "python",
   "pygments_lexer": "ipython3",
   "version": "3.8.12"
  }
 },
 "nbformat": 4,
 "nbformat_minor": 5
}
