{
 "cells": [
  {
   "cell_type": "markdown",
   "id": "19588d1e",
   "metadata": {},
   "source": [
    "https://bkshin.tistory.com/entry/OpenCV-9-%EC%9D%B4%EB%AF%B8%EC%A7%80-%EC%97%B0%EC%82%B0"
   ]
  },
  {
   "cell_type": "markdown",
   "id": "78b89bd8",
   "metadata": {},
   "source": [
    "4:3 and 16:9"
   ]
  },
  {
   "cell_type": "code",
   "execution_count": 71,
   "id": "1ee6a501",
   "metadata": {},
   "outputs": [],
   "source": [
    "import requests as rq\n",
    "from io import BytesIO\n",
    "from tqdm import tqdm"
   ]
  },
  {
   "cell_type": "code",
   "execution_count": 72,
   "id": "7a89e0c9",
   "metadata": {},
   "outputs": [],
   "source": [
    "from PIL import Image\n",
    "from glob import glob\n",
    "import numpy as np\n",
    "import cv2\n",
    "import sys\n",
    "from  PIL  import Image"
   ]
  },
  {
   "cell_type": "code",
   "execution_count": 73,
   "id": "21a68477",
   "metadata": {},
   "outputs": [],
   "source": [
    "import matplotlib.pylab as plt\n",
    "from xml.etree.ElementTree import Element, SubElement, ElementTree, dump"
   ]
  },
  {
   "cell_type": "code",
   "execution_count": 74,
   "id": "f797dc43",
   "metadata": {},
   "outputs": [],
   "source": [
    "# object_loc = 'C:/Users/multicampus/projects/fresh/data/Background/zz.jpg'"
   ]
  },
  {
   "cell_type": "markdown",
   "id": "1e0ce822",
   "metadata": {},
   "source": [
    "## Import image\n",
    "- [B, G, R]로 읽음"
   ]
  },
  {
   "cell_type": "code",
   "execution_count": 75,
   "id": "72d6e75a",
   "metadata": {},
   "outputs": [],
   "source": [
    "# object_loc = 'C:/Users/multicampus/projects/fresh/data/Training/apple_fuji/apple_fuji_L/apple_fuji_L_1-1_1TOP.png'\n",
    "\n",
    "# object_loc = 'C:/Users/multicampus/projects/fresh/data/Training/garlic_uiseong/garlic_uiseong_L/garlic_uiseong_L_1-2_2FR45.png'\n",
    "\n",
    "# object_loc = 'C:/Users/multicampus/projects/fresh/data/Training/cabbage_red/cabbage_red_L/cabbage_red_L_1-3_3FR90.png'\n",
    "\n",
    "# background_loc = 'C:/Users/multicampus/projects/fresh/data/Background/mart_1.jpg'"
   ]
  },
  {
   "cell_type": "code",
   "execution_count": 76,
   "id": "bcb9a6f0",
   "metadata": {},
   "outputs": [],
   "source": [
    "def show_img(*args):\n",
    "    for idx, img in enumerate(args):\n",
    "        cv2.imshow(f'winname{idx}', img)\n",
    "    cv2.waitKey()\n",
    "    cv2.destroyAllWindows()"
   ]
  },
  {
   "cell_type": "markdown",
   "id": "93fdc170",
   "metadata": {},
   "source": [
    "## 배경 제거 - 색깔(크로마키)"
   ]
  },
  {
   "cell_type": "code",
   "execution_count": 77,
   "id": "4537ac08",
   "metadata": {},
   "outputs": [],
   "source": [
    "def object_locate(object_img, background_img):\n",
    "    height1, width1 = object_img.shape[:2]\n",
    "    height2, width2 = background_img.shape[:2]\n",
    "    x1 = int((width2 - width1) * np.random.rand())\n",
    "    y1 = int((height2 - height1) * np.random.rand())\n",
    "    x2 = x1 + width1\n",
    "    y2 = y1 + height1\n",
    "    return x1, y1, x2, y2"
   ]
  },
  {
   "cell_type": "code",
   "execution_count": 78,
   "id": "e7c451fd",
   "metadata": {},
   "outputs": [],
   "source": [
    "def get_hsv(object_img):\n",
    "    chromakey = object_img[:10, :10, :]\n",
    "    hsv_chroma = cv2.cvtColor(chromakey, cv2.COLOR_BGR2HSV)\n",
    "    hsv_img = cv2.cvtColor(object_img, cv2.COLOR_BGR2HSV)\n",
    "    chroma_h = hsv_chroma[:,:,0]\n",
    "    return hsv_img"
   ]
  },
  {
   "cell_type": "code",
   "execution_count": 79,
   "id": "a0f16f3c",
   "metadata": {},
   "outputs": [],
   "source": [
    "def remove_bg1(object_img, offset=15):\n",
    "    chromakey = np.concatenate((object_img[:10, :10, :], object_img[:10, -10:, :],\n",
    "                      object_img[-10:, :10, :], object_img[-10:, -10:, :]))\n",
    "    hsv_chroma = cv2.cvtColor(chromakey, cv2.COLOR_BGR2HSV)\n",
    "    hsv_img = cv2.cvtColor(object_img, cv2.COLOR_BGR2HSV)\n",
    "    chroma_h = hsv_chroma[:,:,0]\n",
    "    chroma_s = hsv_chroma[:, :, 1]\n",
    "    chroma_v = hsv_chroma[:, :, 2]\n",
    "    \n",
    "    lower = np.array([chroma_h.min()-offset, max(0, chroma_s.min()-offset), 100])\n",
    "    upper = np.array([chroma_h.max()+offset, min(255, chroma_s.max()+offset), 255])\n",
    "    #--⑥ 마스크 생성 및 마스킹 후 합성\n",
    "    mask = cv2.inRange(hsv_img, lower, upper)\n",
    "    mask = cv2.bitwise_not(mask)\n",
    "    return mask"
   ]
  },
  {
   "cell_type": "code",
   "execution_count": 80,
   "id": "1fc8f6f0",
   "metadata": {},
   "outputs": [],
   "source": [
    "def remove_bg2(object_img):\n",
    "    l = 20\n",
    "    u = 40\n",
    "    ed = cv2.cvtColor(object_img, cv2.COLOR_BGR2GRAY)\n",
    "    edges = cv2.GaussianBlur(object_img, (21, 51), 3)\n",
    "    edges = cv2.cvtColor(edges, cv2.COLOR_BGR2GRAY)\n",
    "    edges = cv2.Canny(edges, l, u)\n",
    "    _, thresh = cv2.threshold(edges, 0, 255, cv2.THRESH_BINARY  + cv2.THRESH_OTSU)\n",
    "    kernel = cv2.getStructuringElement(cv2.MORPH_ELLIPSE, (5, 5))\n",
    "    mask = cv2.morphologyEx(thresh, cv2.MORPH_CLOSE, kernel, iterations=4)\n",
    "    return mask"
   ]
  },
  {
   "cell_type": "code",
   "execution_count": 81,
   "id": "3f8916c4",
   "metadata": {},
   "outputs": [],
   "source": [
    "def mask_fill(mask):\n",
    "    data = mask.tolist()\n",
    "    sys.setrecursionlimit(10**8)\n",
    "    for i in  range(len(data)):\n",
    "        for j in  range(len(data[i])):\n",
    "            if data[i][j] !=  255:\n",
    "                data[i][j] =  -1\n",
    "            else:\n",
    "                break\n",
    "        for j in  range(len(data[i])-1, -1, -1):\n",
    "            if data[i][j] !=  255:\n",
    "                data[i][j] =  -1\n",
    "            else:\n",
    "                break\n",
    "    image = np.array(data)\n",
    "    image[image !=  -1] =  255\n",
    "    image[image ==  -1] =  0\n",
    "    mask = np.array(image, np.uint8)\n",
    "    return mask"
   ]
  },
  {
   "cell_type": "code",
   "execution_count": 82,
   "id": "735e377e",
   "metadata": {},
   "outputs": [],
   "source": [
    "def overlap_square(rect1, rect2):\n",
    "    return not (rect1[2] < rect2[0] or rect1[0] > rect2[2] or rect1[1] > rect2[3] or rect1[3] < rect2[1])"
   ]
  },
  {
   "cell_type": "code",
   "execution_count": 83,
   "id": "f2349899",
   "metadata": {},
   "outputs": [],
   "source": [
    "def overlap(object_img, background_img, mask, loc):\n",
    "    mask_inv = cv2.bitwise_not(mask)\n",
    "#     background_img = background_img.copy()\n",
    "    x, y, w, h = loc\n",
    "    roi = background_img[y:h, x:w]\n",
    "    fg = cv2.bitwise_and(object_img, object_img, mask=mask)\n",
    "    bg = cv2.bitwise_and(roi, roi, mask=mask_inv)\n",
    "    background_img[y:h, x:w] = fg + bg\n",
    "    return background_img"
   ]
  },
  {
   "cell_type": "code",
   "execution_count": 84,
   "id": "971e2ef9",
   "metadata": {},
   "outputs": [],
   "source": [
    "def indent(elem, level=0): #자료 출처 https://goo.gl/J8VoDK\n",
    "    i = \"\\n\" + level*\"  \"\n",
    "    if len(elem):\n",
    "        if not elem.text or not elem.text.strip():\n",
    "            elem.text = i + \"  \"\n",
    "        if not elem.tail or not elem.tail.strip():\n",
    "            elem.tail = i\n",
    "        for elem in elem:\n",
    "            indent(elem, level+1)\n",
    "        if not elem.tail or not elem.tail.strip():\n",
    "            elem.tail = i\n",
    "    else:\n",
    "        if level and (not elem.tail or not elem.tail.strip()):\n",
    "            elem.tail = i"
   ]
  },
  {
   "cell_type": "code",
   "execution_count": 85,
   "id": "e111d64e",
   "metadata": {},
   "outputs": [],
   "source": [
    "def make_xml(filename, background_img, visited, target_names):\n",
    "    height = background_img.shape[0]\n",
    "    width = background_img.shape[1]\n",
    "\n",
    "    root = Element('annotation')\n",
    "    SubElement(root, 'folder').text = 'custom_images'\n",
    "    SubElement(root, 'filename').text = filename\n",
    "    SubElement(root, 'path').text = f'{DATA_ROOT_FOLDER}/images/{filename}'\n",
    "    source = SubElement(root, 'source')\n",
    "    SubElement(source, 'database').text = 'Unknown'\n",
    "\n",
    "    size = SubElement(root, 'size')\n",
    "    SubElement(size, 'width').text = str(width)\n",
    "    SubElement(size, 'height').text = str(height)\n",
    "    SubElement(size, 'depth').text = '1'\n",
    "\n",
    "    SubElement(root, 'segmented').text = '0'\n",
    "\n",
    "    for i in range(len(visited)):\n",
    "        label = target_names[i]\n",
    "        x1, y1, x2, y2 = visited[i]\n",
    "        point1 = (x1, y1)\n",
    "        point2 = (x2, y2)\n",
    "        obj = SubElement(root, 'object')\n",
    "        SubElement(obj, 'name').text = label\n",
    "        SubElement(obj, 'pose').text = 'Unspecified'\n",
    "        SubElement(obj, 'truncated').text = '0'\n",
    "        SubElement(obj, 'difficult').text = '0'\n",
    "        bbox = SubElement(obj, 'bndbox')\n",
    "        SubElement(bbox, 'xmin').text = str(point1[0])\n",
    "        SubElement(bbox, 'ymin').text = str(point1[1])\n",
    "        SubElement(bbox, 'xmax').text = str(point2[0])\n",
    "        SubElement(bbox, 'ymax').text = str(point2[1])\n",
    "    indent(root)\n",
    "    tree = ElementTree(root)\n",
    "    return tree"
   ]
  },
  {
   "cell_type": "code",
   "execution_count": 86,
   "id": "05e9708e",
   "metadata": {},
   "outputs": [],
   "source": [
    "DATA_ROOT_FOLDER = 'C:/Users/multicampus/projects/fresh/data/overlap'"
   ]
  },
  {
   "cell_type": "code",
   "execution_count": 87,
   "id": "d3ebb868",
   "metadata": {},
   "outputs": [],
   "source": [
    "img_locations = {}"
   ]
  },
  {
   "cell_type": "code",
   "execution_count": 88,
   "id": "076cbb53",
   "metadata": {},
   "outputs": [],
   "source": [
    "folders = [x for x in glob('C:/Users/multicampus/projects/fresh/data/Training/*') if '[라벨]' not in x]\n",
    "for f in folders:\n",
    "    target = f.split('\\\\')[1]\n",
    "    targets = [target + '_L', target + '_M', target + '_S']\n",
    "    for t in targets:\n",
    "        img_locations[t] = glob(f'{f}/{t}/*')"
   ]
  },
  {
   "cell_type": "code",
   "execution_count": 89,
   "id": "37d28f46",
   "metadata": {},
   "outputs": [],
   "source": [
    "targets = list(img_locations.keys())"
   ]
  },
  {
   "cell_type": "code",
   "execution_count": 90,
   "id": "3cc44228",
   "metadata": {},
   "outputs": [],
   "source": [
    "# background_loc = 'C:/Users/multicampus/projects/fresh/data/Background/mart_1.jpg'\n",
    "# background_img = cv2.imread(background_loc)"
   ]
  },
  {
   "cell_type": "code",
   "execution_count": 91,
   "id": "76179924",
   "metadata": {},
   "outputs": [],
   "source": [
    "import time"
   ]
  },
  {
   "cell_type": "code",
   "execution_count": null,
   "id": "22e441c0",
   "metadata": {},
   "outputs": [],
   "source": []
  },
  {
   "cell_type": "code",
   "execution_count": 224,
   "id": "69fa9c42",
   "metadata": {},
   "outputs": [
    {
     "name": "stderr",
     "output_type": "stream",
     "text": [
      "  0%|          | 1/200 [00:09<30:05,  9.08s/it]\n"
     ]
    },
    {
     "ename": "KeyboardInterrupt",
     "evalue": "",
     "output_type": "error",
     "traceback": [
      "\u001b[1;31m---------------------------------------------------------------------------\u001b[0m",
      "\u001b[1;31mKeyboardInterrupt\u001b[0m                         Traceback (most recent call last)",
      "\u001b[1;32mC:\\Users\\MULTIC~1\\AppData\\Local\\Temp/ipykernel_12756/53074200.py\u001b[0m in \u001b[0;36m<module>\u001b[1;34m\u001b[0m\n\u001b[0;32m      3\u001b[0m     \u001b[0mh\u001b[0m \u001b[1;33m=\u001b[0m \u001b[0mw\u001b[0m \u001b[1;33m*\u001b[0m \u001b[1;33m(\u001b[0m\u001b[1;36m1\u001b[0m \u001b[1;33m+\u001b[0m \u001b[0mnp\u001b[0m\u001b[1;33m.\u001b[0m\u001b[0mrandom\u001b[0m\u001b[1;33m.\u001b[0m\u001b[0mrandom\u001b[0m\u001b[1;33m(\u001b[0m\u001b[1;33m)\u001b[0m \u001b[1;33m*\u001b[0m \u001b[1;33m(\u001b[0m\u001b[1;36m1\u001b[0m\u001b[1;33m/\u001b[0m\u001b[1;36m2.6\u001b[0m\u001b[1;33m)\u001b[0m\u001b[1;33m)\u001b[0m  \u001b[1;31m# w:h = 3:4 정도가 되게\u001b[0m\u001b[1;33m\u001b[0m\u001b[1;33m\u001b[0m\u001b[0m\n\u001b[0;32m      4\u001b[0m     \u001b[0mh\u001b[0m \u001b[1;33m=\u001b[0m \u001b[0mint\u001b[0m\u001b[1;33m(\u001b[0m\u001b[1;33m(\u001b[0m\u001b[0mh\u001b[0m \u001b[1;33m//\u001b[0m \u001b[1;36m32\u001b[0m\u001b[1;33m)\u001b[0m \u001b[1;33m*\u001b[0m \u001b[1;36m32\u001b[0m\u001b[1;33m)\u001b[0m\u001b[1;33m\u001b[0m\u001b[1;33m\u001b[0m\u001b[0m\n\u001b[1;32m----> 5\u001b[1;33m     \u001b[0mres\u001b[0m \u001b[1;33m=\u001b[0m \u001b[0mrq\u001b[0m\u001b[1;33m.\u001b[0m\u001b[0mget\u001b[0m\u001b[1;33m(\u001b[0m\u001b[1;34mf'https://picsum.photos/{w}/{h}'\u001b[0m\u001b[1;33m)\u001b[0m\u001b[1;33m\u001b[0m\u001b[1;33m\u001b[0m\u001b[0m\n\u001b[0m\u001b[0;32m      6\u001b[0m     \u001b[0mres\u001b[0m \u001b[1;33m=\u001b[0m \u001b[0mImage\u001b[0m\u001b[1;33m.\u001b[0m\u001b[0mopen\u001b[0m\u001b[1;33m(\u001b[0m\u001b[0mBytesIO\u001b[0m\u001b[1;33m(\u001b[0m\u001b[0mres\u001b[0m\u001b[1;33m.\u001b[0m\u001b[0mcontent\u001b[0m\u001b[1;33m)\u001b[0m\u001b[1;33m)\u001b[0m\u001b[1;33m\u001b[0m\u001b[1;33m\u001b[0m\u001b[0m\n\u001b[0;32m      7\u001b[0m     \u001b[0mbackground_img\u001b[0m \u001b[1;33m=\u001b[0m \u001b[0mnp\u001b[0m\u001b[1;33m.\u001b[0m\u001b[0marray\u001b[0m\u001b[1;33m(\u001b[0m\u001b[0mres\u001b[0m\u001b[1;33m)\u001b[0m\u001b[1;33m\u001b[0m\u001b[1;33m\u001b[0m\u001b[0m\n",
      "\u001b[1;32mc:\\users\\multicampus\\appdata\\local\\programs\\python\\python38\\lib\\site-packages\\requests\\api.py\u001b[0m in \u001b[0;36mget\u001b[1;34m(url, params, **kwargs)\u001b[0m\n\u001b[0;32m     74\u001b[0m \u001b[1;33m\u001b[0m\u001b[0m\n\u001b[0;32m     75\u001b[0m     \u001b[0mkwargs\u001b[0m\u001b[1;33m.\u001b[0m\u001b[0msetdefault\u001b[0m\u001b[1;33m(\u001b[0m\u001b[1;34m'allow_redirects'\u001b[0m\u001b[1;33m,\u001b[0m \u001b[1;32mTrue\u001b[0m\u001b[1;33m)\u001b[0m\u001b[1;33m\u001b[0m\u001b[1;33m\u001b[0m\u001b[0m\n\u001b[1;32m---> 76\u001b[1;33m     \u001b[1;32mreturn\u001b[0m \u001b[0mrequest\u001b[0m\u001b[1;33m(\u001b[0m\u001b[1;34m'get'\u001b[0m\u001b[1;33m,\u001b[0m \u001b[0murl\u001b[0m\u001b[1;33m,\u001b[0m \u001b[0mparams\u001b[0m\u001b[1;33m=\u001b[0m\u001b[0mparams\u001b[0m\u001b[1;33m,\u001b[0m \u001b[1;33m**\u001b[0m\u001b[0mkwargs\u001b[0m\u001b[1;33m)\u001b[0m\u001b[1;33m\u001b[0m\u001b[1;33m\u001b[0m\u001b[0m\n\u001b[0m\u001b[0;32m     77\u001b[0m \u001b[1;33m\u001b[0m\u001b[0m\n\u001b[0;32m     78\u001b[0m \u001b[1;33m\u001b[0m\u001b[0m\n",
      "\u001b[1;32mc:\\users\\multicampus\\appdata\\local\\programs\\python\\python38\\lib\\site-packages\\requests\\api.py\u001b[0m in \u001b[0;36mrequest\u001b[1;34m(method, url, **kwargs)\u001b[0m\n\u001b[0;32m     59\u001b[0m     \u001b[1;31m# cases, and look like a memory leak in others.\u001b[0m\u001b[1;33m\u001b[0m\u001b[1;33m\u001b[0m\u001b[1;33m\u001b[0m\u001b[0m\n\u001b[0;32m     60\u001b[0m     \u001b[1;32mwith\u001b[0m \u001b[0msessions\u001b[0m\u001b[1;33m.\u001b[0m\u001b[0mSession\u001b[0m\u001b[1;33m(\u001b[0m\u001b[1;33m)\u001b[0m \u001b[1;32mas\u001b[0m \u001b[0msession\u001b[0m\u001b[1;33m:\u001b[0m\u001b[1;33m\u001b[0m\u001b[1;33m\u001b[0m\u001b[0m\n\u001b[1;32m---> 61\u001b[1;33m         \u001b[1;32mreturn\u001b[0m \u001b[0msession\u001b[0m\u001b[1;33m.\u001b[0m\u001b[0mrequest\u001b[0m\u001b[1;33m(\u001b[0m\u001b[0mmethod\u001b[0m\u001b[1;33m=\u001b[0m\u001b[0mmethod\u001b[0m\u001b[1;33m,\u001b[0m \u001b[0murl\u001b[0m\u001b[1;33m=\u001b[0m\u001b[0murl\u001b[0m\u001b[1;33m,\u001b[0m \u001b[1;33m**\u001b[0m\u001b[0mkwargs\u001b[0m\u001b[1;33m)\u001b[0m\u001b[1;33m\u001b[0m\u001b[1;33m\u001b[0m\u001b[0m\n\u001b[0m\u001b[0;32m     62\u001b[0m \u001b[1;33m\u001b[0m\u001b[0m\n\u001b[0;32m     63\u001b[0m \u001b[1;33m\u001b[0m\u001b[0m\n",
      "\u001b[1;32mc:\\users\\multicampus\\appdata\\local\\programs\\python\\python38\\lib\\site-packages\\requests\\sessions.py\u001b[0m in \u001b[0;36mrequest\u001b[1;34m(self, method, url, params, data, headers, cookies, files, auth, timeout, allow_redirects, proxies, hooks, stream, verify, cert, json)\u001b[0m\n\u001b[0;32m    540\u001b[0m         }\n\u001b[0;32m    541\u001b[0m         \u001b[0msend_kwargs\u001b[0m\u001b[1;33m.\u001b[0m\u001b[0mupdate\u001b[0m\u001b[1;33m(\u001b[0m\u001b[0msettings\u001b[0m\u001b[1;33m)\u001b[0m\u001b[1;33m\u001b[0m\u001b[1;33m\u001b[0m\u001b[0m\n\u001b[1;32m--> 542\u001b[1;33m         \u001b[0mresp\u001b[0m \u001b[1;33m=\u001b[0m \u001b[0mself\u001b[0m\u001b[1;33m.\u001b[0m\u001b[0msend\u001b[0m\u001b[1;33m(\u001b[0m\u001b[0mprep\u001b[0m\u001b[1;33m,\u001b[0m \u001b[1;33m**\u001b[0m\u001b[0msend_kwargs\u001b[0m\u001b[1;33m)\u001b[0m\u001b[1;33m\u001b[0m\u001b[1;33m\u001b[0m\u001b[0m\n\u001b[0m\u001b[0;32m    543\u001b[0m \u001b[1;33m\u001b[0m\u001b[0m\n\u001b[0;32m    544\u001b[0m         \u001b[1;32mreturn\u001b[0m \u001b[0mresp\u001b[0m\u001b[1;33m\u001b[0m\u001b[1;33m\u001b[0m\u001b[0m\n",
      "\u001b[1;32mc:\\users\\multicampus\\appdata\\local\\programs\\python\\python38\\lib\\site-packages\\requests\\sessions.py\u001b[0m in \u001b[0;36msend\u001b[1;34m(self, request, **kwargs)\u001b[0m\n\u001b[0;32m    675\u001b[0m             \u001b[1;31m# Redirect resolving generator.\u001b[0m\u001b[1;33m\u001b[0m\u001b[1;33m\u001b[0m\u001b[1;33m\u001b[0m\u001b[0m\n\u001b[0;32m    676\u001b[0m             \u001b[0mgen\u001b[0m \u001b[1;33m=\u001b[0m \u001b[0mself\u001b[0m\u001b[1;33m.\u001b[0m\u001b[0mresolve_redirects\u001b[0m\u001b[1;33m(\u001b[0m\u001b[0mr\u001b[0m\u001b[1;33m,\u001b[0m \u001b[0mrequest\u001b[0m\u001b[1;33m,\u001b[0m \u001b[1;33m**\u001b[0m\u001b[0mkwargs\u001b[0m\u001b[1;33m)\u001b[0m\u001b[1;33m\u001b[0m\u001b[1;33m\u001b[0m\u001b[0m\n\u001b[1;32m--> 677\u001b[1;33m             \u001b[0mhistory\u001b[0m \u001b[1;33m=\u001b[0m \u001b[1;33m[\u001b[0m\u001b[0mresp\u001b[0m \u001b[1;32mfor\u001b[0m \u001b[0mresp\u001b[0m \u001b[1;32min\u001b[0m \u001b[0mgen\u001b[0m\u001b[1;33m]\u001b[0m\u001b[1;33m\u001b[0m\u001b[1;33m\u001b[0m\u001b[0m\n\u001b[0m\u001b[0;32m    678\u001b[0m         \u001b[1;32melse\u001b[0m\u001b[1;33m:\u001b[0m\u001b[1;33m\u001b[0m\u001b[1;33m\u001b[0m\u001b[0m\n\u001b[0;32m    679\u001b[0m             \u001b[0mhistory\u001b[0m \u001b[1;33m=\u001b[0m \u001b[1;33m[\u001b[0m\u001b[1;33m]\u001b[0m\u001b[1;33m\u001b[0m\u001b[1;33m\u001b[0m\u001b[0m\n",
      "\u001b[1;32mc:\\users\\multicampus\\appdata\\local\\programs\\python\\python38\\lib\\site-packages\\requests\\sessions.py\u001b[0m in \u001b[0;36m<listcomp>\u001b[1;34m(.0)\u001b[0m\n\u001b[0;32m    675\u001b[0m             \u001b[1;31m# Redirect resolving generator.\u001b[0m\u001b[1;33m\u001b[0m\u001b[1;33m\u001b[0m\u001b[1;33m\u001b[0m\u001b[0m\n\u001b[0;32m    676\u001b[0m             \u001b[0mgen\u001b[0m \u001b[1;33m=\u001b[0m \u001b[0mself\u001b[0m\u001b[1;33m.\u001b[0m\u001b[0mresolve_redirects\u001b[0m\u001b[1;33m(\u001b[0m\u001b[0mr\u001b[0m\u001b[1;33m,\u001b[0m \u001b[0mrequest\u001b[0m\u001b[1;33m,\u001b[0m \u001b[1;33m**\u001b[0m\u001b[0mkwargs\u001b[0m\u001b[1;33m)\u001b[0m\u001b[1;33m\u001b[0m\u001b[1;33m\u001b[0m\u001b[0m\n\u001b[1;32m--> 677\u001b[1;33m             \u001b[0mhistory\u001b[0m \u001b[1;33m=\u001b[0m \u001b[1;33m[\u001b[0m\u001b[0mresp\u001b[0m \u001b[1;32mfor\u001b[0m \u001b[0mresp\u001b[0m \u001b[1;32min\u001b[0m \u001b[0mgen\u001b[0m\u001b[1;33m]\u001b[0m\u001b[1;33m\u001b[0m\u001b[1;33m\u001b[0m\u001b[0m\n\u001b[0m\u001b[0;32m    678\u001b[0m         \u001b[1;32melse\u001b[0m\u001b[1;33m:\u001b[0m\u001b[1;33m\u001b[0m\u001b[1;33m\u001b[0m\u001b[0m\n\u001b[0;32m    679\u001b[0m             \u001b[0mhistory\u001b[0m \u001b[1;33m=\u001b[0m \u001b[1;33m[\u001b[0m\u001b[1;33m]\u001b[0m\u001b[1;33m\u001b[0m\u001b[1;33m\u001b[0m\u001b[0m\n",
      "\u001b[1;32mc:\\users\\multicampus\\appdata\\local\\programs\\python\\python38\\lib\\site-packages\\requests\\sessions.py\u001b[0m in \u001b[0;36mresolve_redirects\u001b[1;34m(self, resp, req, stream, timeout, verify, cert, proxies, yield_requests, **adapter_kwargs)\u001b[0m\n\u001b[0;32m    235\u001b[0m             \u001b[1;32melse\u001b[0m\u001b[1;33m:\u001b[0m\u001b[1;33m\u001b[0m\u001b[1;33m\u001b[0m\u001b[0m\n\u001b[0;32m    236\u001b[0m \u001b[1;33m\u001b[0m\u001b[0m\n\u001b[1;32m--> 237\u001b[1;33m                 resp = self.send(\n\u001b[0m\u001b[0;32m    238\u001b[0m                     \u001b[0mreq\u001b[0m\u001b[1;33m,\u001b[0m\u001b[1;33m\u001b[0m\u001b[1;33m\u001b[0m\u001b[0m\n\u001b[0;32m    239\u001b[0m                     \u001b[0mstream\u001b[0m\u001b[1;33m=\u001b[0m\u001b[0mstream\u001b[0m\u001b[1;33m,\u001b[0m\u001b[1;33m\u001b[0m\u001b[1;33m\u001b[0m\u001b[0m\n",
      "\u001b[1;32mc:\\users\\multicampus\\appdata\\local\\programs\\python\\python38\\lib\\site-packages\\requests\\sessions.py\u001b[0m in \u001b[0;36msend\u001b[1;34m(self, request, **kwargs)\u001b[0m\n\u001b[0;32m    653\u001b[0m \u001b[1;33m\u001b[0m\u001b[0m\n\u001b[0;32m    654\u001b[0m         \u001b[1;31m# Send the request\u001b[0m\u001b[1;33m\u001b[0m\u001b[1;33m\u001b[0m\u001b[1;33m\u001b[0m\u001b[0m\n\u001b[1;32m--> 655\u001b[1;33m         \u001b[0mr\u001b[0m \u001b[1;33m=\u001b[0m \u001b[0madapter\u001b[0m\u001b[1;33m.\u001b[0m\u001b[0msend\u001b[0m\u001b[1;33m(\u001b[0m\u001b[0mrequest\u001b[0m\u001b[1;33m,\u001b[0m \u001b[1;33m**\u001b[0m\u001b[0mkwargs\u001b[0m\u001b[1;33m)\u001b[0m\u001b[1;33m\u001b[0m\u001b[1;33m\u001b[0m\u001b[0m\n\u001b[0m\u001b[0;32m    656\u001b[0m \u001b[1;33m\u001b[0m\u001b[0m\n\u001b[0;32m    657\u001b[0m         \u001b[1;31m# Total elapsed time of the request (approximately)\u001b[0m\u001b[1;33m\u001b[0m\u001b[1;33m\u001b[0m\u001b[1;33m\u001b[0m\u001b[0m\n",
      "\u001b[1;32mc:\\users\\multicampus\\appdata\\local\\programs\\python\\python38\\lib\\site-packages\\requests\\adapters.py\u001b[0m in \u001b[0;36msend\u001b[1;34m(self, request, stream, timeout, verify, cert, proxies)\u001b[0m\n\u001b[0;32m    437\u001b[0m         \u001b[1;32mtry\u001b[0m\u001b[1;33m:\u001b[0m\u001b[1;33m\u001b[0m\u001b[1;33m\u001b[0m\u001b[0m\n\u001b[0;32m    438\u001b[0m             \u001b[1;32mif\u001b[0m \u001b[1;32mnot\u001b[0m \u001b[0mchunked\u001b[0m\u001b[1;33m:\u001b[0m\u001b[1;33m\u001b[0m\u001b[1;33m\u001b[0m\u001b[0m\n\u001b[1;32m--> 439\u001b[1;33m                 resp = conn.urlopen(\n\u001b[0m\u001b[0;32m    440\u001b[0m                     \u001b[0mmethod\u001b[0m\u001b[1;33m=\u001b[0m\u001b[0mrequest\u001b[0m\u001b[1;33m.\u001b[0m\u001b[0mmethod\u001b[0m\u001b[1;33m,\u001b[0m\u001b[1;33m\u001b[0m\u001b[1;33m\u001b[0m\u001b[0m\n\u001b[0;32m    441\u001b[0m                     \u001b[0murl\u001b[0m\u001b[1;33m=\u001b[0m\u001b[0murl\u001b[0m\u001b[1;33m,\u001b[0m\u001b[1;33m\u001b[0m\u001b[1;33m\u001b[0m\u001b[0m\n",
      "\u001b[1;32mc:\\users\\multicampus\\appdata\\local\\programs\\python\\python38\\lib\\site-packages\\urllib3\\connectionpool.py\u001b[0m in \u001b[0;36murlopen\u001b[1;34m(self, method, url, body, headers, retries, redirect, assert_same_host, timeout, pool_timeout, release_conn, chunked, body_pos, **response_kw)\u001b[0m\n\u001b[0;32m    697\u001b[0m \u001b[1;33m\u001b[0m\u001b[0m\n\u001b[0;32m    698\u001b[0m             \u001b[1;31m# Make the request on the httplib connection object.\u001b[0m\u001b[1;33m\u001b[0m\u001b[1;33m\u001b[0m\u001b[1;33m\u001b[0m\u001b[0m\n\u001b[1;32m--> 699\u001b[1;33m             httplib_response = self._make_request(\n\u001b[0m\u001b[0;32m    700\u001b[0m                 \u001b[0mconn\u001b[0m\u001b[1;33m,\u001b[0m\u001b[1;33m\u001b[0m\u001b[1;33m\u001b[0m\u001b[0m\n\u001b[0;32m    701\u001b[0m                 \u001b[0mmethod\u001b[0m\u001b[1;33m,\u001b[0m\u001b[1;33m\u001b[0m\u001b[1;33m\u001b[0m\u001b[0m\n",
      "\u001b[1;32mc:\\users\\multicampus\\appdata\\local\\programs\\python\\python38\\lib\\site-packages\\urllib3\\connectionpool.py\u001b[0m in \u001b[0;36m_make_request\u001b[1;34m(self, conn, method, url, timeout, chunked, **httplib_request_kw)\u001b[0m\n\u001b[0;32m    443\u001b[0m                     \u001b[1;31m# Python 3 (including for exceptions like SystemExit).\u001b[0m\u001b[1;33m\u001b[0m\u001b[1;33m\u001b[0m\u001b[1;33m\u001b[0m\u001b[0m\n\u001b[0;32m    444\u001b[0m                     \u001b[1;31m# Otherwise it looks like a bug in the code.\u001b[0m\u001b[1;33m\u001b[0m\u001b[1;33m\u001b[0m\u001b[1;33m\u001b[0m\u001b[0m\n\u001b[1;32m--> 445\u001b[1;33m                     \u001b[0msix\u001b[0m\u001b[1;33m.\u001b[0m\u001b[0mraise_from\u001b[0m\u001b[1;33m(\u001b[0m\u001b[0me\u001b[0m\u001b[1;33m,\u001b[0m \u001b[1;32mNone\u001b[0m\u001b[1;33m)\u001b[0m\u001b[1;33m\u001b[0m\u001b[1;33m\u001b[0m\u001b[0m\n\u001b[0m\u001b[0;32m    446\u001b[0m         \u001b[1;32mexcept\u001b[0m \u001b[1;33m(\u001b[0m\u001b[0mSocketTimeout\u001b[0m\u001b[1;33m,\u001b[0m \u001b[0mBaseSSLError\u001b[0m\u001b[1;33m,\u001b[0m \u001b[0mSocketError\u001b[0m\u001b[1;33m)\u001b[0m \u001b[1;32mas\u001b[0m \u001b[0me\u001b[0m\u001b[1;33m:\u001b[0m\u001b[1;33m\u001b[0m\u001b[1;33m\u001b[0m\u001b[0m\n\u001b[0;32m    447\u001b[0m             \u001b[0mself\u001b[0m\u001b[1;33m.\u001b[0m\u001b[0m_raise_timeout\u001b[0m\u001b[1;33m(\u001b[0m\u001b[0merr\u001b[0m\u001b[1;33m=\u001b[0m\u001b[0me\u001b[0m\u001b[1;33m,\u001b[0m \u001b[0murl\u001b[0m\u001b[1;33m=\u001b[0m\u001b[0murl\u001b[0m\u001b[1;33m,\u001b[0m \u001b[0mtimeout_value\u001b[0m\u001b[1;33m=\u001b[0m\u001b[0mread_timeout\u001b[0m\u001b[1;33m)\u001b[0m\u001b[1;33m\u001b[0m\u001b[1;33m\u001b[0m\u001b[0m\n",
      "\u001b[1;32mc:\\users\\multicampus\\appdata\\local\\programs\\python\\python38\\lib\\site-packages\\urllib3\\packages\\six.py\u001b[0m in \u001b[0;36mraise_from\u001b[1;34m(value, from_value)\u001b[0m\n",
      "\u001b[1;32mc:\\users\\multicampus\\appdata\\local\\programs\\python\\python38\\lib\\site-packages\\urllib3\\connectionpool.py\u001b[0m in \u001b[0;36m_make_request\u001b[1;34m(self, conn, method, url, timeout, chunked, **httplib_request_kw)\u001b[0m\n\u001b[0;32m    438\u001b[0m                 \u001b[1;31m# Python 3\u001b[0m\u001b[1;33m\u001b[0m\u001b[1;33m\u001b[0m\u001b[1;33m\u001b[0m\u001b[0m\n\u001b[0;32m    439\u001b[0m                 \u001b[1;32mtry\u001b[0m\u001b[1;33m:\u001b[0m\u001b[1;33m\u001b[0m\u001b[1;33m\u001b[0m\u001b[0m\n\u001b[1;32m--> 440\u001b[1;33m                     \u001b[0mhttplib_response\u001b[0m \u001b[1;33m=\u001b[0m \u001b[0mconn\u001b[0m\u001b[1;33m.\u001b[0m\u001b[0mgetresponse\u001b[0m\u001b[1;33m(\u001b[0m\u001b[1;33m)\u001b[0m\u001b[1;33m\u001b[0m\u001b[1;33m\u001b[0m\u001b[0m\n\u001b[0m\u001b[0;32m    441\u001b[0m                 \u001b[1;32mexcept\u001b[0m \u001b[0mBaseException\u001b[0m \u001b[1;32mas\u001b[0m \u001b[0me\u001b[0m\u001b[1;33m:\u001b[0m\u001b[1;33m\u001b[0m\u001b[1;33m\u001b[0m\u001b[0m\n\u001b[0;32m    442\u001b[0m                     \u001b[1;31m# Remove the TypeError from the exception chain in\u001b[0m\u001b[1;33m\u001b[0m\u001b[1;33m\u001b[0m\u001b[1;33m\u001b[0m\u001b[0m\n",
      "\u001b[1;32mc:\\users\\multicampus\\appdata\\local\\programs\\python\\python38\\lib\\http\\client.py\u001b[0m in \u001b[0;36mgetresponse\u001b[1;34m(self)\u001b[0m\n\u001b[0;32m   1330\u001b[0m         \u001b[1;32mtry\u001b[0m\u001b[1;33m:\u001b[0m\u001b[1;33m\u001b[0m\u001b[1;33m\u001b[0m\u001b[0m\n\u001b[0;32m   1331\u001b[0m             \u001b[1;32mtry\u001b[0m\u001b[1;33m:\u001b[0m\u001b[1;33m\u001b[0m\u001b[1;33m\u001b[0m\u001b[0m\n\u001b[1;32m-> 1332\u001b[1;33m                 \u001b[0mresponse\u001b[0m\u001b[1;33m.\u001b[0m\u001b[0mbegin\u001b[0m\u001b[1;33m(\u001b[0m\u001b[1;33m)\u001b[0m\u001b[1;33m\u001b[0m\u001b[1;33m\u001b[0m\u001b[0m\n\u001b[0m\u001b[0;32m   1333\u001b[0m             \u001b[1;32mexcept\u001b[0m \u001b[0mConnectionError\u001b[0m\u001b[1;33m:\u001b[0m\u001b[1;33m\u001b[0m\u001b[1;33m\u001b[0m\u001b[0m\n\u001b[0;32m   1334\u001b[0m                 \u001b[0mself\u001b[0m\u001b[1;33m.\u001b[0m\u001b[0mclose\u001b[0m\u001b[1;33m(\u001b[0m\u001b[1;33m)\u001b[0m\u001b[1;33m\u001b[0m\u001b[1;33m\u001b[0m\u001b[0m\n",
      "\u001b[1;32mc:\\users\\multicampus\\appdata\\local\\programs\\python\\python38\\lib\\http\\client.py\u001b[0m in \u001b[0;36mbegin\u001b[1;34m(self)\u001b[0m\n\u001b[0;32m    301\u001b[0m         \u001b[1;31m# read until we get a non-100 response\u001b[0m\u001b[1;33m\u001b[0m\u001b[1;33m\u001b[0m\u001b[1;33m\u001b[0m\u001b[0m\n\u001b[0;32m    302\u001b[0m         \u001b[1;32mwhile\u001b[0m \u001b[1;32mTrue\u001b[0m\u001b[1;33m:\u001b[0m\u001b[1;33m\u001b[0m\u001b[1;33m\u001b[0m\u001b[0m\n\u001b[1;32m--> 303\u001b[1;33m             \u001b[0mversion\u001b[0m\u001b[1;33m,\u001b[0m \u001b[0mstatus\u001b[0m\u001b[1;33m,\u001b[0m \u001b[0mreason\u001b[0m \u001b[1;33m=\u001b[0m \u001b[0mself\u001b[0m\u001b[1;33m.\u001b[0m\u001b[0m_read_status\u001b[0m\u001b[1;33m(\u001b[0m\u001b[1;33m)\u001b[0m\u001b[1;33m\u001b[0m\u001b[1;33m\u001b[0m\u001b[0m\n\u001b[0m\u001b[0;32m    304\u001b[0m             \u001b[1;32mif\u001b[0m \u001b[0mstatus\u001b[0m \u001b[1;33m!=\u001b[0m \u001b[0mCONTINUE\u001b[0m\u001b[1;33m:\u001b[0m\u001b[1;33m\u001b[0m\u001b[1;33m\u001b[0m\u001b[0m\n\u001b[0;32m    305\u001b[0m                 \u001b[1;32mbreak\u001b[0m\u001b[1;33m\u001b[0m\u001b[1;33m\u001b[0m\u001b[0m\n",
      "\u001b[1;32mc:\\users\\multicampus\\appdata\\local\\programs\\python\\python38\\lib\\http\\client.py\u001b[0m in \u001b[0;36m_read_status\u001b[1;34m(self)\u001b[0m\n\u001b[0;32m    262\u001b[0m \u001b[1;33m\u001b[0m\u001b[0m\n\u001b[0;32m    263\u001b[0m     \u001b[1;32mdef\u001b[0m \u001b[0m_read_status\u001b[0m\u001b[1;33m(\u001b[0m\u001b[0mself\u001b[0m\u001b[1;33m)\u001b[0m\u001b[1;33m:\u001b[0m\u001b[1;33m\u001b[0m\u001b[1;33m\u001b[0m\u001b[0m\n\u001b[1;32m--> 264\u001b[1;33m         \u001b[0mline\u001b[0m \u001b[1;33m=\u001b[0m \u001b[0mstr\u001b[0m\u001b[1;33m(\u001b[0m\u001b[0mself\u001b[0m\u001b[1;33m.\u001b[0m\u001b[0mfp\u001b[0m\u001b[1;33m.\u001b[0m\u001b[0mreadline\u001b[0m\u001b[1;33m(\u001b[0m\u001b[0m_MAXLINE\u001b[0m \u001b[1;33m+\u001b[0m \u001b[1;36m1\u001b[0m\u001b[1;33m)\u001b[0m\u001b[1;33m,\u001b[0m \u001b[1;34m\"iso-8859-1\"\u001b[0m\u001b[1;33m)\u001b[0m\u001b[1;33m\u001b[0m\u001b[1;33m\u001b[0m\u001b[0m\n\u001b[0m\u001b[0;32m    265\u001b[0m         \u001b[1;32mif\u001b[0m \u001b[0mlen\u001b[0m\u001b[1;33m(\u001b[0m\u001b[0mline\u001b[0m\u001b[1;33m)\u001b[0m \u001b[1;33m>\u001b[0m \u001b[0m_MAXLINE\u001b[0m\u001b[1;33m:\u001b[0m\u001b[1;33m\u001b[0m\u001b[1;33m\u001b[0m\u001b[0m\n\u001b[0;32m    266\u001b[0m             \u001b[1;32mraise\u001b[0m \u001b[0mLineTooLong\u001b[0m\u001b[1;33m(\u001b[0m\u001b[1;34m\"status line\"\u001b[0m\u001b[1;33m)\u001b[0m\u001b[1;33m\u001b[0m\u001b[1;33m\u001b[0m\u001b[0m\n",
      "\u001b[1;32mc:\\users\\multicampus\\appdata\\local\\programs\\python\\python38\\lib\\socket.py\u001b[0m in \u001b[0;36mreadinto\u001b[1;34m(self, b)\u001b[0m\n\u001b[0;32m    667\u001b[0m         \u001b[1;32mwhile\u001b[0m \u001b[1;32mTrue\u001b[0m\u001b[1;33m:\u001b[0m\u001b[1;33m\u001b[0m\u001b[1;33m\u001b[0m\u001b[0m\n\u001b[0;32m    668\u001b[0m             \u001b[1;32mtry\u001b[0m\u001b[1;33m:\u001b[0m\u001b[1;33m\u001b[0m\u001b[1;33m\u001b[0m\u001b[0m\n\u001b[1;32m--> 669\u001b[1;33m                 \u001b[1;32mreturn\u001b[0m \u001b[0mself\u001b[0m\u001b[1;33m.\u001b[0m\u001b[0m_sock\u001b[0m\u001b[1;33m.\u001b[0m\u001b[0mrecv_into\u001b[0m\u001b[1;33m(\u001b[0m\u001b[0mb\u001b[0m\u001b[1;33m)\u001b[0m\u001b[1;33m\u001b[0m\u001b[1;33m\u001b[0m\u001b[0m\n\u001b[0m\u001b[0;32m    670\u001b[0m             \u001b[1;32mexcept\u001b[0m \u001b[0mtimeout\u001b[0m\u001b[1;33m:\u001b[0m\u001b[1;33m\u001b[0m\u001b[1;33m\u001b[0m\u001b[0m\n\u001b[0;32m    671\u001b[0m                 \u001b[0mself\u001b[0m\u001b[1;33m.\u001b[0m\u001b[0m_timeout_occurred\u001b[0m \u001b[1;33m=\u001b[0m \u001b[1;32mTrue\u001b[0m\u001b[1;33m\u001b[0m\u001b[1;33m\u001b[0m\u001b[0m\n",
      "\u001b[1;32mc:\\users\\multicampus\\appdata\\local\\programs\\python\\python38\\lib\\ssl.py\u001b[0m in \u001b[0;36mrecv_into\u001b[1;34m(self, buffer, nbytes, flags)\u001b[0m\n\u001b[0;32m   1239\u001b[0m                   \u001b[1;34m\"non-zero flags not allowed in calls to recv_into() on %s\"\u001b[0m \u001b[1;33m%\u001b[0m\u001b[1;33m\u001b[0m\u001b[1;33m\u001b[0m\u001b[0m\n\u001b[0;32m   1240\u001b[0m                   self.__class__)\n\u001b[1;32m-> 1241\u001b[1;33m             \u001b[1;32mreturn\u001b[0m \u001b[0mself\u001b[0m\u001b[1;33m.\u001b[0m\u001b[0mread\u001b[0m\u001b[1;33m(\u001b[0m\u001b[0mnbytes\u001b[0m\u001b[1;33m,\u001b[0m \u001b[0mbuffer\u001b[0m\u001b[1;33m)\u001b[0m\u001b[1;33m\u001b[0m\u001b[1;33m\u001b[0m\u001b[0m\n\u001b[0m\u001b[0;32m   1242\u001b[0m         \u001b[1;32melse\u001b[0m\u001b[1;33m:\u001b[0m\u001b[1;33m\u001b[0m\u001b[1;33m\u001b[0m\u001b[0m\n\u001b[0;32m   1243\u001b[0m             \u001b[1;32mreturn\u001b[0m \u001b[0msuper\u001b[0m\u001b[1;33m(\u001b[0m\u001b[1;33m)\u001b[0m\u001b[1;33m.\u001b[0m\u001b[0mrecv_into\u001b[0m\u001b[1;33m(\u001b[0m\u001b[0mbuffer\u001b[0m\u001b[1;33m,\u001b[0m \u001b[0mnbytes\u001b[0m\u001b[1;33m,\u001b[0m \u001b[0mflags\u001b[0m\u001b[1;33m)\u001b[0m\u001b[1;33m\u001b[0m\u001b[1;33m\u001b[0m\u001b[0m\n",
      "\u001b[1;32mc:\\users\\multicampus\\appdata\\local\\programs\\python\\python38\\lib\\ssl.py\u001b[0m in \u001b[0;36mread\u001b[1;34m(self, len, buffer)\u001b[0m\n\u001b[0;32m   1097\u001b[0m         \u001b[1;32mtry\u001b[0m\u001b[1;33m:\u001b[0m\u001b[1;33m\u001b[0m\u001b[1;33m\u001b[0m\u001b[0m\n\u001b[0;32m   1098\u001b[0m             \u001b[1;32mif\u001b[0m \u001b[0mbuffer\u001b[0m \u001b[1;32mis\u001b[0m \u001b[1;32mnot\u001b[0m \u001b[1;32mNone\u001b[0m\u001b[1;33m:\u001b[0m\u001b[1;33m\u001b[0m\u001b[1;33m\u001b[0m\u001b[0m\n\u001b[1;32m-> 1099\u001b[1;33m                 \u001b[1;32mreturn\u001b[0m \u001b[0mself\u001b[0m\u001b[1;33m.\u001b[0m\u001b[0m_sslobj\u001b[0m\u001b[1;33m.\u001b[0m\u001b[0mread\u001b[0m\u001b[1;33m(\u001b[0m\u001b[0mlen\u001b[0m\u001b[1;33m,\u001b[0m \u001b[0mbuffer\u001b[0m\u001b[1;33m)\u001b[0m\u001b[1;33m\u001b[0m\u001b[1;33m\u001b[0m\u001b[0m\n\u001b[0m\u001b[0;32m   1100\u001b[0m             \u001b[1;32melse\u001b[0m\u001b[1;33m:\u001b[0m\u001b[1;33m\u001b[0m\u001b[1;33m\u001b[0m\u001b[0m\n\u001b[0;32m   1101\u001b[0m                 \u001b[1;32mreturn\u001b[0m \u001b[0mself\u001b[0m\u001b[1;33m.\u001b[0m\u001b[0m_sslobj\u001b[0m\u001b[1;33m.\u001b[0m\u001b[0mread\u001b[0m\u001b[1;33m(\u001b[0m\u001b[0mlen\u001b[0m\u001b[1;33m)\u001b[0m\u001b[1;33m\u001b[0m\u001b[1;33m\u001b[0m\u001b[0m\n",
      "\u001b[1;31mKeyboardInterrupt\u001b[0m: "
     ]
    }
   ],
   "source": [
    "for idx in tqdm(range(1, 201)):\n",
    "    w = np.random.choice(list(range(1152, 1408 + 1, 32)))\n",
    "    h = w * (1 + np.random.random() * (1/2.6))  # w:h = 3:4 정도가 되게\n",
    "    h = int((h // 32) * 32)\n",
    "    res = rq.get(f'https://picsum.photos/{w}/{h}')\n",
    "    res = Image.open(BytesIO(res.content))\n",
    "    background_img = np.array(res)\n",
    "\n",
    "#     maximum_size = int(min(background_img.shape[:2]) / 2)\n",
    "#     minimum_size = int(min(background_img.shape[:2]) / 9)\n",
    "\n",
    "    visited = []\n",
    "    target_names = []\n",
    "\n",
    "    for i in range(10):\n",
    "        target = np.random.choice(targets)\n",
    "        object_loc = np.random.choice(img_locations[target])\n",
    "#         size = min(1000, int(minimum_size + maximum_size*np.random.random()))  # 최대 크기는 1000\n",
    "#         size = min(1000, int(600 + 450*np.random.random()))\n",
    "        object_img = cv2.imread(object_loc)\n",
    "        object_img = cv2.resize(object_img, dsize=(size, size), interpolation=cv2.INTER_AREA)\n",
    "        count = 10\n",
    "        while count:\n",
    "            rec_new = object_locate(object_img, background_img)\n",
    "            x1_new, y1_new, x2_new, y2_new = rec_new\n",
    "            flag = 0\n",
    "            for rec in visited:\n",
    "                if overlap_square(rec, rec_new):  # 겹쳐지면\n",
    "                    count -= 1\n",
    "                    break\n",
    "            else:\n",
    "                break\n",
    "\n",
    "\n",
    "        if count:  # 5번 시도만에 적절한 위치를 찾은 경우\n",
    "            mask = remove_bg1(object_img, 15)\n",
    "            mask = mask_fill(mask)\n",
    "            result = overlap(object_img, background_img, mask, rec_new)\n",
    "            visited.append(rec_new)\n",
    "#             target_names.append(target)\n",
    "            target_names.append(target[:-2])  # 18개종\n",
    "        else:\n",
    "            pass\n",
    "    #         print('end')\n",
    "\n",
    "    image_save_folder = 'C:/Users/multicampus/projects/fresh/data/overlap/images'\n",
    "\n",
    "    cv2.imwrite(f'{DATA_ROOT_FOLDER}/images/img_{idx}.png', background_img)\n",
    "\n",
    "    tree = make_xml(f'img_{idx}.png', background_img, visited, target_names)\n",
    "\n",
    "    tree.write(f'{DATA_ROOT_FOLDER}/annotations/img_{idx}.xml')\n",
    "    time.sleep(5)"
   ]
  },
  {
   "cell_type": "code",
   "execution_count": null,
   "id": "4f200c06",
   "metadata": {},
   "outputs": [],
   "source": []
  },
  {
   "cell_type": "code",
   "execution_count": 35,
   "id": "49391b6e",
   "metadata": {},
   "outputs": [],
   "source": [
    "targets_ = targets.copy()"
   ]
  },
  {
   "cell_type": "code",
   "execution_count": 39,
   "id": "920ac287",
   "metadata": {},
   "outputs": [],
   "source": [
    "targets_ = list(set([x[:-2] for x in targets_]))"
   ]
  },
  {
   "cell_type": "code",
   "execution_count": 40,
   "id": "36e21afc",
   "metadata": {},
   "outputs": [],
   "source": [
    "f = open(\"./labels_ag_trimmed.txt\", 'w')\n",
    "for t in targets_[:-1]:\n",
    "    data = f'{t}\\n'\n",
    "    f.write(data)\n",
    "f.write(f'{targets_[-1]}')\n",
    "f.close()"
   ]
  },
  {
   "cell_type": "code",
   "execution_count": 985,
   "id": "f33d2798",
   "metadata": {},
   "outputs": [
    {
     "data": {
      "text/plain": [
       "54"
      ]
     },
     "execution_count": 985,
     "metadata": {},
     "output_type": "execute_result"
    }
   ],
   "source": [
    "len(targets)"
   ]
  },
  {
   "cell_type": "code",
   "execution_count": null,
   "id": "b217b19e",
   "metadata": {},
   "outputs": [],
   "source": []
  },
  {
   "cell_type": "code",
   "execution_count": null,
   "id": "1b216c8e",
   "metadata": {},
   "outputs": [],
   "source": []
  },
  {
   "cell_type": "code",
   "execution_count": null,
   "id": "f5f49d29",
   "metadata": {},
   "outputs": [],
   "source": []
  },
  {
   "cell_type": "code",
   "execution_count": null,
   "id": "f25c0a08",
   "metadata": {},
   "outputs": [],
   "source": []
  },
  {
   "cell_type": "code",
   "execution_count": null,
   "id": "8736967b",
   "metadata": {},
   "outputs": [],
   "source": []
  },
  {
   "cell_type": "code",
   "execution_count": null,
   "id": "f310905e",
   "metadata": {},
   "outputs": [],
   "source": []
  },
  {
   "cell_type": "code",
   "execution_count": null,
   "id": "fba2a250",
   "metadata": {},
   "outputs": [],
   "source": []
  },
  {
   "cell_type": "code",
   "execution_count": null,
   "id": "61829bae",
   "metadata": {},
   "outputs": [],
   "source": []
  },
  {
   "cell_type": "code",
   "execution_count": 528,
   "id": "37ecec6b",
   "metadata": {},
   "outputs": [],
   "source": [
    "# v2\n",
    "mask = remove_bg2(object_img)\n",
    "mask = mask_fill(mask)\n",
    "result = overlap(object_img, background_img, mask)\n",
    "show_img(result)"
   ]
  },
  {
   "cell_type": "code",
   "execution_count": null,
   "id": "68b45032",
   "metadata": {},
   "outputs": [],
   "source": []
  },
  {
   "cell_type": "code",
   "execution_count": null,
   "id": "2023c0cb",
   "metadata": {},
   "outputs": [],
   "source": []
  },
  {
   "cell_type": "code",
   "execution_count": null,
   "id": "acf19b8b",
   "metadata": {},
   "outputs": [],
   "source": []
  },
  {
   "cell_type": "code",
   "execution_count": null,
   "id": "a931155d",
   "metadata": {},
   "outputs": [],
   "source": []
  },
  {
   "cell_type": "code",
   "execution_count": null,
   "id": "cadfb95f",
   "metadata": {},
   "outputs": [],
   "source": []
  },
  {
   "cell_type": "code",
   "execution_count": null,
   "id": "559711f0",
   "metadata": {},
   "outputs": [],
   "source": []
  },
  {
   "cell_type": "code",
   "execution_count": null,
   "id": "2631d5e2",
   "metadata": {},
   "outputs": [],
   "source": []
  },
  {
   "cell_type": "code",
   "execution_count": null,
   "id": "8e320d85",
   "metadata": {},
   "outputs": [],
   "source": []
  },
  {
   "cell_type": "markdown",
   "id": "4c4fb71c",
   "metadata": {},
   "source": [
    "## 배경제거 - 객체 가장자리\n",
    "https://dev.to/stokry/remove-background-from-images-with-python-dkj"
   ]
  },
  {
   "cell_type": "code",
   "execution_count": 218,
   "id": "6e950d2e",
   "metadata": {},
   "outputs": [],
   "source": [
    "object_loc = 'C:/Users/multicampus/projects/fresh/data/Training/apple_fuji/apple_fuji_L/apple_fuji_L_1-1_1TOP.png'"
   ]
  },
  {
   "cell_type": "code",
   "execution_count": 253,
   "id": "7141a486",
   "metadata": {},
   "outputs": [],
   "source": [
    "object_loc = 'C:/Users/multicampus/projects/fresh/data/Training/garlic_uiseong/garlic_uiseong_L/garlic_uiseong_L_1-2_2FR45.png'"
   ]
  },
  {
   "cell_type": "code",
   "execution_count": 254,
   "id": "7dc07028",
   "metadata": {},
   "outputs": [],
   "source": [
    "object_img = cv2.imread(object_loc, cv2.IMREAD_UNCHANGED)"
   ]
  },
  {
   "cell_type": "code",
   "execution_count": 255,
   "id": "3aaab8d0",
   "metadata": {},
   "outputs": [],
   "source": [
    "object_img = cv2.resize(object_img, dsize=(200, 200), interpolation=cv2.INTER_AREA)\n",
    "# original = img.copy()\n",
    "# original = cv2.resize(original, dsize=(300, 300), interpolation=cv2.INTER_AREA)"
   ]
  },
  {
   "cell_type": "code",
   "execution_count": 256,
   "id": "031e667c",
   "metadata": {},
   "outputs": [],
   "source": [
    "background_img = cv2.imread(background_loc)"
   ]
  },
  {
   "cell_type": "code",
   "execution_count": 342,
   "id": "09c943ea",
   "metadata": {},
   "outputs": [],
   "source": []
  },
  {
   "cell_type": "code",
   "execution_count": 343,
   "id": "4dbed899",
   "metadata": {},
   "outputs": [],
   "source": []
  },
  {
   "cell_type": "code",
   "execution_count": 344,
   "id": "cfa5dad1",
   "metadata": {},
   "outputs": [],
   "source": [
    "mask = remove_bg2(object_img)"
   ]
  },
  {
   "cell_type": "code",
   "execution_count": 346,
   "id": "76c6250b",
   "metadata": {},
   "outputs": [],
   "source": [
    "mask = mask_fill(mask)"
   ]
  },
  {
   "cell_type": "code",
   "execution_count": 347,
   "id": "298387ad",
   "metadata": {},
   "outputs": [],
   "source": [
    "mask_inv = cv2.bitwise_not(mask)"
   ]
  },
  {
   "cell_type": "code",
   "execution_count": 358,
   "id": "f24a1d87",
   "metadata": {},
   "outputs": [],
   "source": [
    "result = cv2.bitwise_and(object_img, object_img, mask=mask)"
   ]
  },
  {
   "cell_type": "code",
   "execution_count": 359,
   "id": "6b1e33c0",
   "metadata": {},
   "outputs": [],
   "source": [
    "show_img(result)"
   ]
  },
  {
   "cell_type": "code",
   "execution_count": 348,
   "id": "4cfa63fc",
   "metadata": {},
   "outputs": [],
   "source": [
    "# overlap\n",
    "x, y, w, h = object_locate(object_img, background_img)\n",
    "roi = background_img[y:h, x:w]\n",
    "fg = cv2.bitwise_and(object_img, object_img, mask=mask)\n",
    "bg = cv2.bitwise_and(roi, roi, mask=mask_inv)\n",
    "background_img[y:h, x:w] = fg + bg"
   ]
  },
  {
   "cell_type": "code",
   "execution_count": 350,
   "id": "fdb9ca44",
   "metadata": {},
   "outputs": [],
   "source": [
    "show_img(background_img)"
   ]
  },
  {
   "cell_type": "code",
   "execution_count": 351,
   "id": "549a92dc",
   "metadata": {},
   "outputs": [],
   "source": [
    "result = cv2.bitwise_and(object_img, object_img, mask=mask)"
   ]
  },
  {
   "cell_type": "code",
   "execution_count": 355,
   "id": "9ea5100f",
   "metadata": {},
   "outputs": [],
   "source": [
    "show_img(result)"
   ]
  },
  {
   "cell_type": "code",
   "execution_count": 354,
   "id": "707a169c",
   "metadata": {},
   "outputs": [
    {
     "data": {
      "text/plain": [
       "array([[ True,  True,  True, ...,  True,  True,  True],\n",
       "       [ True,  True,  True, ...,  True,  True,  True],\n",
       "       [ True,  True,  True, ...,  True,  True,  True],\n",
       "       ...,\n",
       "       [ True,  True,  True, ...,  True,  True,  True],\n",
       "       [ True,  True,  True, ...,  True,  True,  True],\n",
       "       [ True,  True,  True, ...,  True,  True,  True]])"
      ]
     },
     "execution_count": 354,
     "metadata": {},
     "output_type": "execute_result"
    }
   ],
   "source": [
    "mask ==  0"
   ]
  },
  {
   "cell_type": "code",
   "execution_count": 356,
   "id": "d3fffa1d",
   "metadata": {},
   "outputs": [],
   "source": [
    "result = cv2.bitwise_and(object_img, object_img, mask=mask)\n",
    "result[mask ==  0] =  255"
   ]
  },
  {
   "cell_type": "code",
   "execution_count": 357,
   "id": "eb5c56ef",
   "metadata": {},
   "outputs": [],
   "source": [
    "show_img(result)"
   ]
  },
  {
   "cell_type": "code",
   "execution_count": 143,
   "id": "d4d925bf",
   "metadata": {},
   "outputs": [],
   "source": [
    "cv2.imwrite('bg.png', result)\n",
    "\n",
    "img = Image.open('bg.png')\n",
    "img.convert(\"RGBA\")\n",
    "datas = img.getdata()\n",
    "\n",
    "newData = []\n",
    "for item in datas:\n",
    "    if item[0] ==  255  and item[1] ==  255  and item[2] ==  255:\n",
    "        newData.append((255, 255, 255, 0))\n",
    "    else:\n",
    "        newData.append(item)\n",
    "\n",
    "img.putdata(newData)\n",
    "# img.save(\"img.png\", \"PNG\")"
   ]
  },
  {
   "cell_type": "code",
   "execution_count": 145,
   "id": "43a6a549",
   "metadata": {},
   "outputs": [],
   "source": [
    "show_img(result)"
   ]
  },
  {
   "cell_type": "code",
   "execution_count": 45,
   "id": "4815e233",
   "metadata": {},
   "outputs": [],
   "source": [
    "mart.paste(apple, area)"
   ]
  },
  {
   "cell_type": "markdown",
   "id": "4aa73628",
   "metadata": {},
   "source": [
    "## HSV로 안바꾸고 지우기"
   ]
  },
  {
   "cell_type": "code",
   "execution_count": 115,
   "id": "bb5c1a78",
   "metadata": {},
   "outputs": [
    {
     "name": "stdout",
     "output_type": "stream",
     "text": [
      "None (500, 500) RGB\n"
     ]
    }
   ],
   "source": [
    "mart = Image.open(background_loc)\n",
    "mart = mart.resize((500, 500))\n",
    "print(mart.format, mart.size, mart.mode)"
   ]
  },
  {
   "cell_type": "code",
   "execution_count": 116,
   "id": "63ef8c7c",
   "metadata": {},
   "outputs": [
    {
     "name": "stdout",
     "output_type": "stream",
     "text": [
      "None (200, 200) RGB\n"
     ]
    }
   ],
   "source": [
    "# apple = Image.open(f'{object_loc}/apple_fuji/apple_fuji_L/apple_fuji_L_1-1_1TOP.png')\n",
    "apple = Image.open(object_loc)\n",
    "apple = apple.resize((200, 200))\n",
    "print(apple.format, apple.size, apple.mode)\n",
    "datas = apple.getdata()\n",
    "# print(datas)"
   ]
  },
  {
   "cell_type": "code",
   "execution_count": 117,
   "id": "6dc41977",
   "metadata": {},
   "outputs": [],
   "source": [
    "# 배경 제거\n",
    "newData = []\n",
    "cutOff = 180\n",
    "\n",
    "for item in datas:\n",
    "    # print(item)\n",
    "    if item[0] >= cutOff and item[1] >= cutOff and item[2] >= cutOff:\n",
    "        # print('chk')\n",
    "        newData.append((0, 0,0))\n",
    "    else:\n",
    "        newData.append(item)\n",
    "\n",
    "apple.putdata(newData)\n",
    "\n",
    "area = (5, 5)\n",
    "mart.paste(apple, area)\n",
    "\n",
    "mart.show()"
   ]
  }
 ],
 "metadata": {
  "kernelspec": {
   "display_name": "Python 3 (ipykernel)",
   "language": "python",
   "name": "python3"
  },
  "language_info": {
   "codemirror_mode": {
    "name": "ipython",
    "version": 3
   },
   "file_extension": ".py",
   "mimetype": "text/x-python",
   "name": "python",
   "nbconvert_exporter": "python",
   "pygments_lexer": "ipython3",
   "version": "3.8.3"
  }
 },
 "nbformat": 4,
 "nbformat_minor": 5
}
